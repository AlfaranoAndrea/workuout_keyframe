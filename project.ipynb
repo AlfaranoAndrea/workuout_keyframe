{
  "cells": [
    {
      "cell_type": "markdown",
      "id": "d66e59f9-6c30-4c74-b345-322d88720910",
      "metadata": {
        "id": "d66e59f9-6c30-4c74-b345-322d88720910"
      },
      "source": [
        "## introduction\n",
        "### problem statement\n",
        "Every day always more people experience the opportunity of training overywhere: outdoor on a park, in a garage, in our bedroom etc. Anyway this possibility of freedom led to a great issue commont to every uncommon athlets: the lack of feedbacks.\n",
        "infact, while in a gym is easy receive a examination on own exercise esecution, by a trainer or by another athlet, on own bedroom we don't have this possibility. lack of feedback on exercise esecution led to learn improper esecutin, bring to weak performances, injuries etc\n",
        "\n",
        "### state of art \n",
        "to evaluete own proper execution, athlets sometimes use to record their performarce in order to self esaminate them and find what is wrong. Anyway this process is tedios becouse it involve the need to find a good place to put the smartphone,record the clip, skip all the preparation of exercise, find the most significative point on the esecution, examinate them and finaly understaining whats wrong for correcting mistakes on the next repetition.\n",
        "Do this proces for every rep, for every exercise, in time with rest time (usualy in the order of 1 minute), can be annoing and most athlets preferes to not be distracted and keep attention on their work out.\n",
        "\n",
        "### proposed solution \n",
        "my idea is to make all this process agile for the atlets, developing a computer vision pipeline that is able  to take the recordered clip, extrapolate the most important keyframe for the athlets, discard all the unnecessary moment to be keep user attention on the most important moment and give to final user a edited clipp to fast evaluate own performances\n"
      ]
    },
    {
      "cell_type": "markdown",
      "source": [
        "# Step O colab initialization"
      ],
      "metadata": {
        "id": "3dQNttFOb_0t"
      },
      "id": "3dQNttFOb_0t"
    },
    {
      "cell_type": "code",
      "source": [
        "!git clone https://github.com/AlfaranoAndrea/workuout_keyframe.git\n",
        "%cd workuout_keyframe \n",
        "!gdown https://drive.google.com/drive/folders/148Mhwpt9E89_gLMAJC4S45DiVv83Xz54?usp=share_link --folder -O input_video\n"
      ],
      "metadata": {
        "id": "k_soW8umcKc2",
        "outputId": "10f44580-cf3a-4a26-d2ea-5c00a01ee568",
        "colab": {
          "base_uri": "https://localhost:8080/"
        }
      },
      "id": "k_soW8umcKc2",
      "execution_count": 1,
      "outputs": [
        {
          "output_type": "stream",
          "name": "stdout",
          "text": [
            "Cloning into 'workuout_keyframe'...\n",
            "remote: Enumerating objects: 131, done.\u001b[K\n",
            "remote: Counting objects: 100% (127/127), done.\u001b[K\n",
            "remote: Compressing objects: 100% (82/82), done.\u001b[K\n",
            "remote: Total 131 (delta 49), reused 98 (delta 38), pack-reused 4\u001b[K\n",
            "Receiving objects: 100% (131/131), 5.67 MiB | 10.07 MiB/s, done.\n",
            "Resolving deltas: 100% (49/49), done.\n",
            "/content/workuout_keyframe\n",
            "Retrieving folder list\n",
            "Processing file 1KC4dLg3R-RVVxKlEeXwidfX6CMcALzEX military.mp4\n",
            "Processing file 1VMJWvQ_dWtwkw6uaQUAV8s8zrFE1n6u6 poor_execution.mp4\n",
            "Processing file 1DILeSomSV_LVZK6O_LSDVQ7yhz52KDE_ pullup.mp4\n",
            "Retrieving folder list completed\n",
            "Building directory structure\n",
            "Building directory structure completed\n",
            "Downloading...\n",
            "From: https://drive.google.com/uc?id=1KC4dLg3R-RVVxKlEeXwidfX6CMcALzEX\n",
            "To: /content/workuout_keyframe/input_video/military.mp4\n",
            "100% 58.5M/58.5M [00:00<00:00, 60.8MB/s]\n",
            "Downloading...\n",
            "From: https://drive.google.com/uc?id=1VMJWvQ_dWtwkw6uaQUAV8s8zrFE1n6u6\n",
            "To: /content/workuout_keyframe/input_video/poor_execution.mp4\n",
            "100% 48.9M/48.9M [00:00<00:00, 67.8MB/s]\n",
            "Downloading...\n",
            "From: https://drive.google.com/uc?id=1DILeSomSV_LVZK6O_LSDVQ7yhz52KDE_\n",
            "To: /content/workuout_keyframe/input_video/pullup.mp4\n",
            "100% 44.8M/44.8M [00:00<00:00, 65.5MB/s]\n",
            "Download completed\n"
          ]
        }
      ]
    },
    {
      "cell_type": "code",
      "source": [
        "!wget -h"
      ],
      "metadata": {
        "id": "VQktg1AS_odC",
        "outputId": "d9b88531-a183-4dd2-c856-e9c398ceb7ec",
        "colab": {
          "base_uri": "https://localhost:8080/"
        }
      },
      "id": "VQktg1AS_odC",
      "execution_count": 3,
      "outputs": [
        {
          "output_type": "stream",
          "name": "stdout",
          "text": [
            "GNU Wget 1.20.3, a non-interactive network retriever.\n",
            "Usage: wget [OPTION]... [URL]...\n",
            "\n",
            "Mandatory arguments to long options are mandatory for short options too.\n",
            "\n",
            "Startup:\n",
            "  -V,  --version                   display the version of Wget and exit\n",
            "  -h,  --help                      print this help\n",
            "  -b,  --background                go to background after startup\n",
            "  -e,  --execute=COMMAND           execute a `.wgetrc'-style command\n",
            "\n",
            "Logging and input file:\n",
            "  -o,  --output-file=FILE          log messages to FILE\n",
            "  -a,  --append-output=FILE        append messages to FILE\n",
            "  -d,  --debug                     print lots of debugging information\n",
            "  -q,  --quiet                     quiet (no output)\n",
            "  -v,  --verbose                   be verbose (this is the default)\n",
            "  -nv, --no-verbose                turn off verboseness, without being quiet\n",
            "       --report-speed=TYPE         output bandwidth as TYPE.  TYPE can be bits\n",
            "  -i,  --input-file=FILE           download URLs found in local or external FILE\n",
            "  -F,  --force-html                treat input file as HTML\n",
            "  -B,  --base=URL                  resolves HTML input-file links (-i -F)\n",
            "                                     relative to URL\n",
            "       --config=FILE               specify config file to use\n",
            "       --no-config                 do not read any config file\n",
            "       --rejected-log=FILE         log reasons for URL rejection to FILE\n",
            "\n",
            "Download:\n",
            "  -t,  --tries=NUMBER              set number of retries to NUMBER (0 unlimits)\n",
            "       --retry-connrefused         retry even if connection is refused\n",
            "       --retry-on-http-error=ERRORS    comma-separated list of HTTP errors to retry\n",
            "  -O,  --output-document=FILE      write documents to FILE\n",
            "  -nc, --no-clobber                skip downloads that would download to\n",
            "                                     existing files (overwriting them)\n",
            "       --no-netrc                  don't try to obtain credentials from .netrc\n",
            "  -c,  --continue                  resume getting a partially-downloaded file\n",
            "       --start-pos=OFFSET          start downloading from zero-based position OFFSET\n",
            "       --progress=TYPE             select progress gauge type\n",
            "       --show-progress             display the progress bar in any verbosity mode\n",
            "  -N,  --timestamping              don't re-retrieve files unless newer than\n",
            "                                     local\n",
            "       --no-if-modified-since      don't use conditional if-modified-since get\n",
            "                                     requests in timestamping mode\n",
            "       --no-use-server-timestamps  don't set the local file's timestamp by\n",
            "                                     the one on the server\n",
            "  -S,  --server-response           print server response\n",
            "       --spider                    don't download anything\n",
            "  -T,  --timeout=SECONDS           set all timeout values to SECONDS\n",
            "       --dns-timeout=SECS          set the DNS lookup timeout to SECS\n",
            "       --connect-timeout=SECS      set the connect timeout to SECS\n",
            "       --read-timeout=SECS         set the read timeout to SECS\n",
            "  -w,  --wait=SECONDS              wait SECONDS between retrievals\n",
            "       --waitretry=SECONDS         wait 1..SECONDS between retries of a retrieval\n",
            "       --random-wait               wait from 0.5*WAIT...1.5*WAIT secs between retrievals\n",
            "       --no-proxy                  explicitly turn off proxy\n",
            "  -Q,  --quota=NUMBER              set retrieval quota to NUMBER\n",
            "       --bind-address=ADDRESS      bind to ADDRESS (hostname or IP) on local host\n",
            "       --limit-rate=RATE           limit download rate to RATE\n",
            "       --no-dns-cache              disable caching DNS lookups\n",
            "       --restrict-file-names=OS    restrict chars in file names to ones OS allows\n",
            "       --ignore-case               ignore case when matching files/directories\n",
            "  -4,  --inet4-only                connect only to IPv4 addresses\n",
            "  -6,  --inet6-only                connect only to IPv6 addresses\n",
            "       --prefer-family=FAMILY      connect first to addresses of specified family,\n",
            "                                     one of IPv6, IPv4, or none\n",
            "       --user=USER                 set both ftp and http user to USER\n",
            "       --password=PASS             set both ftp and http password to PASS\n",
            "       --ask-password              prompt for passwords\n",
            "       --use-askpass=COMMAND       specify credential handler for requesting \n",
            "                                     username and password.  If no COMMAND is \n",
            "                                     specified the WGET_ASKPASS or the SSH_ASKPASS \n",
            "                                     environment variable is used.\n",
            "       --no-iri                    turn off IRI support\n",
            "       --local-encoding=ENC        use ENC as the local encoding for IRIs\n",
            "       --remote-encoding=ENC       use ENC as the default remote encoding\n",
            "       --unlink                    remove file before clobber\n",
            "       --xattr                     turn on storage of metadata in extended file attributes\n",
            "\n",
            "Directories:\n",
            "  -nd, --no-directories            don't create directories\n",
            "  -x,  --force-directories         force creation of directories\n",
            "  -nH, --no-host-directories       don't create host directories\n",
            "       --protocol-directories      use protocol name in directories\n",
            "  -P,  --directory-prefix=PREFIX   save files to PREFIX/..\n",
            "       --cut-dirs=NUMBER           ignore NUMBER remote directory components\n",
            "\n",
            "HTTP options:\n",
            "       --http-user=USER            set http user to USER\n",
            "       --http-password=PASS        set http password to PASS\n",
            "       --no-cache                  disallow server-cached data\n",
            "       --default-page=NAME         change the default page name (normally\n",
            "                                     this is 'index.html'.)\n",
            "  -E,  --adjust-extension          save HTML/CSS documents with proper extensions\n",
            "       --ignore-length             ignore 'Content-Length' header field\n",
            "       --header=STRING             insert STRING among the headers\n",
            "       --compression=TYPE          choose compression, one of auto, gzip and none. (default: none)\n",
            "       --max-redirect              maximum redirections allowed per page\n",
            "       --proxy-user=USER           set USER as proxy username\n",
            "       --proxy-password=PASS       set PASS as proxy password\n",
            "       --referer=URL               include 'Referer: URL' header in HTTP request\n",
            "       --save-headers              save the HTTP headers to file\n",
            "  -U,  --user-agent=AGENT          identify as AGENT instead of Wget/VERSION\n",
            "       --no-http-keep-alive        disable HTTP keep-alive (persistent connections)\n",
            "       --no-cookies                don't use cookies\n",
            "       --load-cookies=FILE         load cookies from FILE before session\n",
            "       --save-cookies=FILE         save cookies to FILE after session\n",
            "       --keep-session-cookies      load and save session (non-permanent) cookies\n",
            "       --post-data=STRING          use the POST method; send STRING as the data\n",
            "       --post-file=FILE            use the POST method; send contents of FILE\n",
            "       --method=HTTPMethod         use method \"HTTPMethod\" in the request\n",
            "       --body-data=STRING          send STRING as data. --method MUST be set\n",
            "       --body-file=FILE            send contents of FILE. --method MUST be set\n",
            "       --content-disposition       honor the Content-Disposition header when\n",
            "                                     choosing local file names (EXPERIMENTAL)\n",
            "       --content-on-error          output the received content on server errors\n",
            "       --auth-no-challenge         send Basic HTTP authentication information\n",
            "                                     without first waiting for the server's\n",
            "                                     challenge\n",
            "\n",
            "HTTPS (SSL/TLS) options:\n",
            "       --secure-protocol=PR        choose secure protocol, one of auto, SSLv2,\n",
            "                                     SSLv3, TLSv1, TLSv1_1, TLSv1_2 and PFS\n",
            "       --https-only                only follow secure HTTPS links\n",
            "       --no-check-certificate      don't validate the server's certificate\n",
            "       --certificate=FILE          client certificate file\n",
            "       --certificate-type=TYPE     client certificate type, PEM or DER\n",
            "       --private-key=FILE          private key file\n",
            "       --private-key-type=TYPE     private key type, PEM or DER\n",
            "       --ca-certificate=FILE       file with the bundle of CAs\n",
            "       --ca-directory=DIR          directory where hash list of CAs is stored\n",
            "       --crl-file=FILE             file with bundle of CRLs\n",
            "       --pinnedpubkey=FILE/HASHES  Public key (PEM/DER) file, or any number\n",
            "                                   of base64 encoded sha256 hashes preceded by\n",
            "                                   'sha256//' and separated by ';', to verify\n",
            "                                   peer against\n",
            "       --random-file=FILE          file with random data for seeding the SSL PRNG\n",
            "\n",
            "       --ciphers=STR           Set the priority string (GnuTLS) or cipher list string (OpenSSL) directly.\n",
            "                                   Use with care. This option overrides --secure-protocol.\n",
            "                                   The format and syntax of this string depend on the specific SSL/TLS engine.\n",
            "HSTS options:\n",
            "       --no-hsts                   disable HSTS\n",
            "       --hsts-file                 path of HSTS database (will override default)\n",
            "\n",
            "FTP options:\n",
            "       --ftp-user=USER             set ftp user to USER\n",
            "       --ftp-password=PASS         set ftp password to PASS\n",
            "       --no-remove-listing         don't remove '.listing' files\n",
            "       --no-glob                   turn off FTP file name globbing\n",
            "       --no-passive-ftp            disable the \"passive\" transfer mode\n",
            "       --preserve-permissions      preserve remote file permissions\n",
            "       --retr-symlinks             when recursing, get linked-to files (not dir)\n",
            "\n",
            "FTPS options:\n",
            "       --ftps-implicit                 use implicit FTPS (default port is 990)\n",
            "       --ftps-resume-ssl               resume the SSL/TLS session started in the control connection when\n",
            "                                         opening a data connection\n",
            "       --ftps-clear-data-connection    cipher the control channel only; all the data will be in plaintext\n",
            "       --ftps-fallback-to-ftp          fall back to FTP if FTPS is not supported in the target server\n",
            "WARC options:\n",
            "       --warc-file=FILENAME        save request/response data to a .warc.gz file\n",
            "       --warc-header=STRING        insert STRING into the warcinfo record\n",
            "       --warc-max-size=NUMBER      set maximum size of WARC files to NUMBER\n",
            "       --warc-cdx                  write CDX index files\n",
            "       --warc-dedup=FILENAME       do not store records listed in this CDX file\n",
            "       --no-warc-compression       do not compress WARC files with GZIP\n",
            "       --no-warc-digests           do not calculate SHA1 digests\n",
            "       --no-warc-keep-log          do not store the log file in a WARC record\n",
            "       --warc-tempdir=DIRECTORY    location for temporary files created by the\n",
            "                                     WARC writer\n",
            "\n",
            "Recursive download:\n",
            "  -r,  --recursive                 specify recursive download\n",
            "  -l,  --level=NUMBER              maximum recursion depth (inf or 0 for infinite)\n",
            "       --delete-after              delete files locally after downloading them\n",
            "  -k,  --convert-links             make links in downloaded HTML or CSS point to\n",
            "                                     local files\n",
            "       --convert-file-only         convert the file part of the URLs only (usually known as the basename)\n",
            "       --backups=N                 before writing file X, rotate up to N backup files\n",
            "  -K,  --backup-converted          before converting file X, back up as X.orig\n",
            "  -m,  --mirror                    shortcut for -N -r -l inf --no-remove-listing\n",
            "  -p,  --page-requisites           get all images, etc. needed to display HTML page\n",
            "       --strict-comments           turn on strict (SGML) handling of HTML comments\n",
            "\n",
            "Recursive accept/reject:\n",
            "  -A,  --accept=LIST               comma-separated list of accepted extensions\n",
            "  -R,  --reject=LIST               comma-separated list of rejected extensions\n",
            "       --accept-regex=REGEX        regex matching accepted URLs\n",
            "       --reject-regex=REGEX        regex matching rejected URLs\n",
            "       --regex-type=TYPE           regex type (posix|pcre)\n",
            "  -D,  --domains=LIST              comma-separated list of accepted domains\n",
            "       --exclude-domains=LIST      comma-separated list of rejected domains\n",
            "       --follow-ftp                follow FTP links from HTML documents\n",
            "       --follow-tags=LIST          comma-separated list of followed HTML tags\n",
            "       --ignore-tags=LIST          comma-separated list of ignored HTML tags\n",
            "  -H,  --span-hosts                go to foreign hosts when recursive\n",
            "  -L,  --relative                  follow relative links only\n",
            "  -I,  --include-directories=LIST  list of allowed directories\n",
            "       --trust-server-names        use the name specified by the redirection\n",
            "                                     URL's last component\n",
            "  -X,  --exclude-directories=LIST  list of excluded directories\n",
            "  -np, --no-parent                 don't ascend to the parent directory\n",
            "\n",
            "Email bug reports, questions, discussions to <bug-wget@gnu.org>\n",
            "and/or open issues at https://savannah.gnu.org/bugs/?func=additem&group=wget.\n"
          ]
        }
      ]
    },
    {
      "cell_type": "code",
      "source": [
        "%cd models\n",
        "!mkdir checkpoint\n",
        "%cd checkpoint\n",
        "!wget \"drive.google.com/u/3/uc?id=1iAKv2S1OE3YpwgwX43bKZHxBAlluL9Y9&export=download&confirm=yes\" -O flownets.pth.tar.pth"
      ],
      "metadata": {
        "id": "HiDJX1CQ8l5v",
        "outputId": "1c3b6969-a341-4be1-f844-0c870d3413b2",
        "colab": {
          "base_uri": "https://localhost:8080/"
        }
      },
      "id": "HiDJX1CQ8l5v",
      "execution_count": 4,
      "outputs": [
        {
          "output_type": "stream",
          "name": "stdout",
          "text": [
            "/content/workuout_keyframe/models\n",
            "/content/workuout_keyframe/models/checkpoint\n",
            "URL transformed to HTTPS due to an HSTS policy\n",
            "--2023-02-16 16:14:23--  https://drive.google.com/u/3/uc?id=1iAKv2S1OE3YpwgwX43bKZHxBAlluL9Y9&export=download&confirm=yes\n",
            "Resolving drive.google.com (drive.google.com)... 142.250.141.100, 142.250.141.113, 142.250.141.139, ...\n",
            "Connecting to drive.google.com (drive.google.com)|142.250.141.100|:443... connected.\n",
            "HTTP request sent, awaiting response... 302 Found\n",
            "Location: https://drive.google.com/uc?id=1iAKv2S1OE3YpwgwX43bKZHxBAlluL9Y9&export=download&confirm=yes [following]\n",
            "--2023-02-16 16:14:23--  https://drive.google.com/uc?id=1iAKv2S1OE3YpwgwX43bKZHxBAlluL9Y9&export=download&confirm=yes\n",
            "Reusing existing connection to drive.google.com:443.\n",
            "HTTP request sent, awaiting response... 303 See Other\n",
            "Location: https://doc-08-44-docs.googleusercontent.com/docs/securesc/ha0ro937gcuc7l7deffksulhg5h7mbp1/7vu9o9heo55euolrq3bmdd5qto92c739/1676564025000/06430227796893093141/*/1iAKv2S1OE3YpwgwX43bKZHxBAlluL9Y9?e=download&uuid=187b24ab-3a8d-4d0c-844d-11fa00e32dee [following]\n",
            "Warning: wildcards not supported in HTTP.\n",
            "--2023-02-16 16:14:23--  https://doc-08-44-docs.googleusercontent.com/docs/securesc/ha0ro937gcuc7l7deffksulhg5h7mbp1/7vu9o9heo55euolrq3bmdd5qto92c739/1676564025000/06430227796893093141/*/1iAKv2S1OE3YpwgwX43bKZHxBAlluL9Y9?e=download&uuid=187b24ab-3a8d-4d0c-844d-11fa00e32dee\n",
            "Resolving doc-08-44-docs.googleusercontent.com (doc-08-44-docs.googleusercontent.com)... 74.125.137.132, 2607:f8b0:4023:c03::84\n",
            "Connecting to doc-08-44-docs.googleusercontent.com (doc-08-44-docs.googleusercontent.com)|74.125.137.132|:443... connected.\n",
            "HTTP request sent, awaiting response... 200 OK\n",
            "Length: 154706010 (148M) [application/octet-stream]\n",
            "Saving to: ‘flownets.pth.tar.pth’\n",
            "\n",
            "flownets.pth.tar.pt 100%[===================>] 147.54M   240MB/s    in 0.6s    \n",
            "\n",
            "2023-02-16 16:14:24 (240 MB/s) - ‘flownets.pth.tar.pth’ saved [154706010/154706010]\n",
            "\n"
          ]
        }
      ]
    },
    {
      "cell_type": "code",
      "source": [
        "!python3 downloadSintel.py"
      ],
      "metadata": {
        "id": "dH_pjylmwcXl",
        "outputId": "602f969a-6afd-4711-d2aa-50caa8a9f599",
        "colab": {
          "base_uri": "https://localhost:8080/"
        }
      },
      "id": "dH_pjylmwcXl",
      "execution_count": null,
      "outputs": [
        {
          "output_type": "stream",
          "name": "stdout",
          "text": [
            "############### DOWNLOADING SINTEL DATA ###############\n",
            "5.50MKB [03:39, 25.0kKB/s]               \n",
            "############### UNZIPPING SINTEL DATA ###############\n",
            "############### COMPLETE UNZIPPING DATA ###############\n"
          ]
        }
      ]
    },
    {
      "cell_type": "code",
      "metadata": {
        "id": "dd5XiXj1EOs1",
        "outputId": "c47f78b9-d783-40bb-bbdc-4e68279dfbda",
        "colab": {
          "base_uri": "https://localhost:8080/"
        }
      },
      "source": [
        "!pip install pytorch_lightning --quiet\n",
        "!pip install flowiz --quiet"
      ],
      "execution_count": null,
      "outputs": [
        {
          "output_type": "stream",
          "name": "stdout",
          "text": [
            "\u001b[2K     \u001b[90m━━━━━━━━━━━━━━━━━━━━━━━━━━━━━━━━━━━━━━\u001b[0m \u001b[32m826.2/826.2 KB\u001b[0m \u001b[31m13.9 MB/s\u001b[0m eta \u001b[36m0:00:00\u001b[0m\n",
            "\u001b[2K     \u001b[90m━━━━━━━━━━━━━━━━━━━━━━━━━━━━━━━━━━━━━━\u001b[0m \u001b[32m517.2/517.2 KB\u001b[0m \u001b[31m36.8 MB/s\u001b[0m eta \u001b[36m0:00:00\u001b[0m\n",
            "\u001b[2K     \u001b[90m━━━━━━━━━━━━━━━━━━━━━━━━━━━━━━━━━━━━━━━━\u001b[0m \u001b[32m2.1/2.1 MB\u001b[0m \u001b[31m25.5 MB/s\u001b[0m eta \u001b[36m0:00:00\u001b[0m\n",
            "\u001b[?25h  Preparing metadata (setup.py) ... \u001b[?25l\u001b[?25hdone\n",
            "\u001b[2K     \u001b[90m━━━━━━━━━━━━━━━━━━━━━━━━━━━━━━━━━━━━━━━━\u001b[0m \u001b[32m90.1/90.1 KB\u001b[0m \u001b[31m9.7 MB/s\u001b[0m eta \u001b[36m0:00:00\u001b[0m\n",
            "\u001b[?25h  Preparing metadata (setup.py) ... \u001b[?25l\u001b[?25hdone\n",
            "\u001b[2K     \u001b[90m━━━━━━━━━━━━━━━━━━━━━━━━━━━━━━━━━━━━━━━━\u001b[0m \u001b[32m6.5/6.5 MB\u001b[0m \u001b[31m61.5 MB/s\u001b[0m eta \u001b[36m0:00:00\u001b[0m\n",
            "\u001b[2K     \u001b[90m━━━━━━━━━━━━━━━━━━━━━━━━━━━━━━━━━━━━━━\u001b[0m \u001b[32m261.4/261.4 KB\u001b[0m \u001b[31m23.0 MB/s\u001b[0m eta \u001b[36m0:00:00\u001b[0m\n",
            "\u001b[?25h  Building wheel for eel (setup.py) ... \u001b[?25l\u001b[?25hdone\n",
            "  Building wheel for bottle-websocket (setup.py) ... \u001b[?25l\u001b[?25hdone\n"
          ]
        }
      ],
      "id": "dd5XiXj1EOs1"
    },
    {
      "cell_type": "markdown",
      "id": "1465ddb8-00f0-493c-8a8e-568f16ea2c98",
      "metadata": {
        "id": "1465ddb8-00f0-493c-8a8e-568f16ea2c98",
        "tags": []
      },
      "source": [
        "# First part: Deep Learning"
      ]
    },
    {
      "cell_type": "code",
      "execution_count": null,
      "id": "6e3dbfd5-a260-4982-9952-c702ad8ccb25",
      "metadata": {
        "id": "6e3dbfd5-a260-4982-9952-c702ad8ccb25",
        "tags": []
      },
      "outputs": [],
      "source": [
        "import numpy as np\n",
        "import torch\n",
        "import pytorch_lightning as pl\n",
        "\n",
        "from torchvision import datasets\n",
        "import matplotlib.pyplot as plt\n",
        "import flowiz as fz\n",
        "\n",
        "from dataset import  FlowDataModule\n",
        "from models.flowNetS import FlowNetS\n",
        "from models.raft import RAFT\n",
        "\n",
        "from utilities.videoUtilities import extract_frames, saveVideo\n",
        "from utilities.flowUtilities import computeFlow, flowVideo\n",
        "from utilities.keyFramesUtilities import find_center_of_gravity, save_key_frames\n",
        "from utilities.signalUtilities import  moving_average, findKeyPoints"
      ]
    },
    {
      "cell_type": "markdown",
      "id": "6a539600-eb47-45c7-81ed-c5762d0fff63",
      "metadata": {
        "id": "6a539600-eb47-45c7-81ed-c5762d0fff63",
        "tags": []
      },
      "source": [
        "# datasets"
      ]
    },
    {
      "cell_type": "markdown",
      "id": "2b6b954c-367d-434c-9706-4039d875226f",
      "metadata": {
        "id": "2b6b954c-367d-434c-9706-4039d875226f",
        "tags": []
      },
      "source": [
        "let's visualize how torch vison dataset FlyingChairs works"
      ]
    },
    {
      "cell_type": "code",
      "execution_count": null,
      "id": "f1bdc535-3d97-4a29-8caf-ae8fc429ad11",
      "metadata": {
        "id": "f1bdc535-3d97-4a29-8caf-ae8fc429ad11"
      },
      "outputs": [],
      "source": [
        "loadedDataset= datasets.Sintel(root='./dataset',\n",
        "                              split = \"train\", \n",
        "                              #transforms = dataModulo.dataset_transformation,\n",
        "                              pass_name = \"clean\"\n",
        "                                )"
      ]
    },
    {
      "cell_type": "code",
      "execution_count": null,
      "id": "d48f9cdc-6bbf-4be3-a812-100841a0c525",
      "metadata": {
        "id": "d48f9cdc-6bbf-4be3-a812-100841a0c525",
        "outputId": "77f5164a-685c-421b-8c8e-62379fbcaff5",
        "colab": {
          "base_uri": "https://localhost:8080/",
          "height": 185
        }
      },
      "outputs": [
        {
          "output_type": "stream",
          "name": "stdout",
          "text": [
            "image1 in dataset has shape: (436, 1024, 3)\n",
            "image2 in dataset has shape: (436, 1024, 3)\n",
            "flow image in dataset has shape: (2, 436, 1024)\n",
            "flow image in dataset has this new shape: (436, 1024, 2)\n"
          ]
        },
        {
          "output_type": "execute_result",
          "data": {
            "text/plain": [
              "<matplotlib.image.AxesImage at 0x7f0161d3a250>"
            ]
          },
          "metadata": {},
          "execution_count": 9
        },
        {
          "output_type": "display_data",
          "data": {
            "text/plain": [
              "<Figure size 432x288 with 3 Axes>"
            ],
            "image/png": "[encoded data removed]"
          },
          "metadata": {
            "needs_background": "light"
          }
        }
      ],
      "source": [
        "\"\"\"\n",
        "dataset gives back triplets [image1,image2, targetFlow]\n",
        "\"\"\"\n",
        "\n",
        "triplet=loadedDataset[10]\n",
        "img1,img2,flow= triplet\n",
        "\n",
        "img1=np.asarray(img1)\n",
        "img2=np.asarray(img2)\n",
        "\n",
        "print (f\"image1 in dataset has shape: {img1.shape}\")\n",
        "print (f\"image2 in dataset has shape: {img2.shape}\")\n",
        "\n",
        "print (f\"flow image in dataset has shape: {flow.shape}\")\n",
        "flow=np.transpose (flow,(1,2,0))\n",
        "print (f\"flow image in dataset has this new shape: {flow.shape}\")\n",
        "\n",
        "flow=fz.convert_from_flow(flow) \n",
        "\n",
        "plt.figure(figsize=(15,10))\n",
        "plt.subplot(1, 3, 1)\n",
        "plt.imshow(img1)\n",
        "plt.subplot(1, 3, 2)\n",
        "plt.imshow(img2)\n",
        "plt.subplot(1, 3, 3)\n",
        "plt.imshow(flow)\n",
        "\n"
      ]
    },
    {
      "cell_type": "markdown",
      "id": "b9bc3116-66c4-4d9a-9f74-e761a3c3f76b",
      "metadata": {
        "id": "b9bc3116-66c4-4d9a-9f74-e761a3c3f76b",
        "tags": []
      },
      "source": [
        "## model training"
      ]
    },
    {
      "cell_type": "code",
      "execution_count": null,
      "id": "1def3d31",
      "metadata": {
        "id": "1def3d31",
        "outputId": "12d51a22-65f5-436e-9953-90a86ad7e7b6",
        "colab": {
          "base_uri": "https://localhost:8080/"
        }
      },
      "outputs": [
        {
          "output_type": "stream",
          "name": "stderr",
          "text": [
            "/usr/local/lib/python3.8/dist-packages/torchvision/models/_utils.py:208: UserWarning: The parameter 'pretrained' is deprecated since 0.13 and may be removed in the future, please use 'weights' instead.\n",
            "  warnings.warn(\n",
            "/usr/local/lib/python3.8/dist-packages/torchvision/models/_utils.py:223: UserWarning: Arguments other than a weight enum or `None` for 'weights' are deprecated since 0.13 and may be removed in the future. The current behavior is equivalent to passing `weights=Raft_Large_Weights.C_T_SKHT_V2`. You can also use `weights=Raft_Large_Weights.DEFAULT` to get the most up-to-date weights.\n",
            "  warnings.warn(msg)\n",
            "INFO:pytorch_lightning.utilities.rank_zero:GPU available: False, used: False\n",
            "INFO:pytorch_lightning.utilities.rank_zero:TPU available: False, using: 0 TPU cores\n",
            "INFO:pytorch_lightning.utilities.rank_zero:IPU available: False, using: 0 IPUs\n",
            "INFO:pytorch_lightning.utilities.rank_zero:HPU available: False, using: 0 HPUs\n"
          ]
        }
      ],
      "source": [
        "#save = torch.load(\"./models/checkpoint/flownets.pth.tar.pth\")#[\"state_dict\"]\n",
        "model  = RAFT(version=\"large\")\n",
        "data=FlowDataModule(batch_size =1, workers=32,selected_dataset =\"Sintel\")\n",
        "\n",
        "trainer = pl.Trainer(accelerator= \"gpu\" if torch.cuda.is_available() else \"cpu\", \n",
        "                     max_epochs=20,             \n",
        "                     auto_lr_find=False, \n",
        "                     auto_scale_batch_size=False)"
      ]
    },
    {
      "cell_type": "code",
      "execution_count": null,
      "id": "286e646b-1d45-4415-9c13-71f204493492",
      "metadata": {
        "id": "286e646b-1d45-4415-9c13-71f204493492",
        "tags": []
      },
      "outputs": [],
      "source": [
        "#trainer.fit(model,data )\n",
        "#trainer.test(model, data)"
      ]
    },
    {
      "cell_type": "markdown",
      "id": "0c08cfaa-b20c-413f-a21a-63a90677d4ea",
      "metadata": {
        "id": "0c08cfaa-b20c-413f-a21a-63a90677d4ea",
        "tags": []
      },
      "source": [
        "# Second part: Computing Pipeline"
      ]
    },
    {
      "cell_type": "code",
      "execution_count": null,
      "id": "a7e327b9-4c5d-49b8-8a2b-b793228e73ff",
      "metadata": {
        "id": "a7e327b9-4c5d-49b8-8a2b-b793228e73ff",
        "outputId": "3fd49f6a-5fef-4208-8ec1-58e3515441f2",
        "colab": {
          "base_uri": "https://localhost:8080/"
        }
      },
      "outputs": [
        {
          "output_type": "stream",
          "name": "stderr",
          "text": [
            "/usr/local/lib/python3.8/dist-packages/torchvision/models/_utils.py:208: UserWarning: The parameter 'pretrained' is deprecated since 0.13 and may be removed in the future, please use 'weights' instead.\n",
            "  warnings.warn(\n",
            "/usr/local/lib/python3.8/dist-packages/torchvision/models/_utils.py:223: UserWarning: Arguments other than a weight enum or `None` for 'weights' are deprecated since 0.13 and may be removed in the future. The current behavior is equivalent to passing `weights=Raft_Large_Weights.C_T_SKHT_V2`. You can also use `weights=Raft_Large_Weights.DEFAULT` to get the most up-to-date weights.\n",
            "  warnings.warn(msg)\n"
          ]
        }
      ],
      "source": [
        "device = torch.device(\"cuda:0\" if torch.cuda.is_available() else \"cpu\")\n",
        "model  = RAFT()\n",
        "model.to(device)\n",
        "video_path= \"./input_video/pullup.mp4\"\n",
        "temp_extracted_frames=\"./temp/Frames/\"\n",
        "temp_processed_flow_frames=\"./temp/processedFloFrames/\""
      ]
    },
    {
      "cell_type": "code",
      "execution_count": null,
      "id": "162671a2-491b-4b26-9221-d553d5da29fd",
      "metadata": {
        "id": "162671a2-491b-4b26-9221-d553d5da29fd",
        "outputId": "422798be-4e51-4a3e-c529-cbeea1767a60",
        "colab": {
          "base_uri": "https://localhost:8080/"
        }
      },
      "outputs": [
        {
          "output_type": "stream",
          "name": "stderr",
          "text": [
            "  2%|▏         | 22/1032 [01:54<1:26:33,  5.14s/it]"
          ]
        }
      ],
      "source": [
        "fps=30\n",
        "fps=int(extract_frames(video_path))\n",
        "flowVideo(\n",
        "    path=temp_extracted_frames,\n",
        "    model=model,\n",
        "    device=device)\n",
        "saveVideo(temp_processed_flow_frames,\"pippo\", fps=fps)\n",
        "   "
      ]
    },
    {
      "cell_type": "code",
      "execution_count": null,
      "id": "5c6367ca-dda8-42cb-aed5-8bc8a5120e9f",
      "metadata": {
        "id": "5c6367ca-dda8-42cb-aed5-8bc8a5120e9f"
      },
      "outputs": [],
      "source": [
        "# 3B- Find miving cordinates of center of gravity of our athlet\n",
        "x,y=find_center_of_gravity(temp_processed_flow_frames)  \n",
        "#saveVideo(comp,\"PullUp_mass\",bw=True)"
      ]
    },
    {
      "cell_type": "markdown",
      "id": "6472254d-b7d5-4a78-bc1e-c75b6ad92e87",
      "metadata": {
        "id": "6472254d-b7d5-4a78-bc1e-c75b6ad92e87"
      },
      "source": [
        "## SIGNAL ANALISYS"
      ]
    },
    {
      "cell_type": "code",
      "execution_count": null,
      "id": "a607520d-2806-47fc-bb62-237c39a1842e",
      "metadata": {
        "id": "a607520d-2806-47fc-bb62-237c39a1842e"
      },
      "outputs": [],
      "source": [
        "fig, ax = plt.subplots()\n",
        "ax.plot(y)\n",
        "plt.show()"
      ]
    },
    {
      "cell_type": "code",
      "execution_count": null,
      "id": "915e20cf-e4c3-459b-9a5e-fba88920d9b0",
      "metadata": {
        "id": "915e20cf-e4c3-459b-9a5e-fba88920d9b0"
      },
      "outputs": [],
      "source": [
        "# 2- mobile average\n",
        "#K=[0.25,0.25,0.25,0.25]\n",
        "\n",
        "\n",
        "#avg=np.convolve(K,y)\n",
        "avg=moving_average(y,k=30)\n",
        "fig, ax = plt.subplots()\n",
        "ax.plot(avg)\n",
        "plt.show()"
      ]
    },
    {
      "cell_type": "code",
      "execution_count": null,
      "id": "6fd4fe39-3cbf-4c3c-a8fc-749302e28c24",
      "metadata": {
        "id": "6fd4fe39-3cbf-4c3c-a8fc-749302e28c24"
      },
      "outputs": [],
      "source": [
        "# 3- find peacks positive\n",
        "peaks= findKeyPoints(avg)\n",
        "\n",
        "\n",
        "np.diff(peaks)\n",
        "plt.figure(figsize=(15,10))\n",
        "plt.plot(avg)\n",
        "plt.plot(peaks, avg[peaks], \"x\")\n",
        "plt.show()\n"
      ]
    },
    {
      "cell_type": "code",
      "execution_count": null,
      "id": "c1492199-30ab-4c4f-a967-fc071c9c4732",
      "metadata": {
        "id": "c1492199-30ab-4c4f-a967-fc071c9c4732"
      },
      "outputs": [],
      "source": [
        "save_key_frames(\n",
        "    keyFramesList=peaks, \n",
        "    frames_path=temp_extracted_frames,\n",
        "    threshold=12, \n",
        "    near=5, \n",
        "    slowmotion=2, \n",
        "    speedUp=4, \n",
        "    title=\"final.avi\")\n",
        "#saveVideo(video,\"video_allenamento_pullup\", frames_rate=60)"
      ]
    }
  ],
  "metadata": {
    "colab": {
      "provenance": []
    },
    "kernelspec": {
      "display_name": "Python 3",
      "language": "python",
      "name": "python3"
    },
    "language_info": {
      "codemirror_mode": {
        "name": "ipython",
        "version": 3
      },
      "file_extension": ".py",
      "mimetype": "text/x-python",
      "name": "python",
      "nbconvert_exporter": "python",
      "pygments_lexer": "ipython3",
      "version": "3.8.10"
    },
    "vscode": {
      "interpreter": {
        "hash": "e7370f93d1d0cde622a1f8e1c04877d8463912d04d973331ad4851f04de6915a"
      }
    }
  },
  "nbformat": 4,
  "nbformat_minor": 5
}