{
  "cells": [
    {
      "cell_type": "markdown",
      "id": "d66e59f9-6c30-4c74-b345-322d88720910",
      "metadata": {
        "id": "d66e59f9-6c30-4c74-b345-322d88720910"
      },
      "source": [
        "## introduction\n",
        "### problem statement\n",
        "Every day always more people experience the opportunity of training overywhere: outdoor on a park, in a garage, in our bedroom etc. Anyway this possibility of freedom led to a great issue commont to every uncommon athlets: the lack of feedbacks.\n",
        "infact, while in a gym is easy receive a examination on own exercise esecution, by a trainer or by another athlet, on own bedroom we don't have this possibility. lack of feedback on exercise esecution led to learn improper esecutin, bring to weak performances, injuries etc\n",
        "\n",
        "### state of art \n",
        "to evaluete own proper execution, athlets sometimes use to record their performarce in order to self esaminate them and find what is wrong. Anyway this process is tedios becouse it involve the need to find a good place to put the smartphone,record the clip, skip all the preparation of exercise, find the most significative point on the esecution, examinate them and finaly understaining whats wrong for correcting mistakes on the next repetition.\n",
        "Do this proces for every rep, for every exercise, in time with rest time (usualy in the order of 1 minute), can be annoing and most athlets preferes to not be distracted and keep attention on their work out.\n",
        "\n",
        "### proposed solution \n",
        "my idea is to make all this process agile for the atlets, developing a computer vision pipeline that is able  to take the recordered clip, extrapolate the most important keyframe for the athlets, discard all the unnecessary moment to be keep user attention on the most important moment and give to final user a edited clipp to fast evaluate own performances\n"
      ]
    },
    {
      "cell_type": "markdown",
      "source": [
        "# Step O colab initialization"
      ],
      "metadata": {
        "id": "3dQNttFOb_0t"
      },
      "id": "3dQNttFOb_0t"
    },
    {
      "cell_type": "code",
      "source": [
        "!git clone https://github.com/AlfaranoAndrea/workuout_keyframe.git\n",
        "%cd workuout_keyframe \n",
        "!gdown https://drive.google.com/drive/folders/148Mhwpt9E89_gLMAJC4S45DiVv83Xz54?usp=share_link --folder -O input_video\n",
        "!mkdir -p ./models/checkpoint/\n",
        "!wget \"drive.google.com/u/3/uc?id=1iAKv2S1OE3YpwgwX43bKZHxBAlluL9Y9&export=download&confirm=yes\" -O ./models/checkpoint/flownets.pth.tar.pth\n",
        "\n",
        "!mkdir -p ./dataset/Sintel/\n",
        "!wget \"drive.google.com/u/3/uc?id=1zrWR-m_R7q_7DjRCNbexDTCZiZk0t8po&export=download&confirm=yes\" -O ./dataset/Sintel/Sintel.zip\n",
        "!unzip ./dataset/Sintel/\n",
        "#!python3 downloadSintel.py\n",
        "\n",
        "!pip install pytorch_lightning --quiet\n",
        "!pip install flowiz --quiet"
      ],
      "metadata": {
        "id": "k_soW8umcKc2",
        "outputId": "ec10d709-c586-4273-c423-286b61fb21cb",
        "colab": {
          "base_uri": "https://localhost:8080/"
        }
      },
      "id": "k_soW8umcKc2",
      "execution_count": 5,
      "outputs": [
        {
          "output_type": "stream",
          "name": "stdout",
          "text": [
            "/content/workuout_keyframe\n"
          ]
        }
      ]
    },
    {
      "cell_type": "code",
      "source": [],
      "metadata": {
        "id": "HiDJX1CQ8l5v"
      },
      "id": "HiDJX1CQ8l5v",
      "execution_count": 5,
      "outputs": []
    },
    {
      "cell_type": "code",
      "source": [],
      "metadata": {
        "id": "dH_pjylmwcXl"
      },
      "id": "dH_pjylmwcXl",
      "execution_count": 5,
      "outputs": []
    },
    {
      "cell_type": "code",
      "metadata": {
        "id": "dd5XiXj1EOs1"
      },
      "source": [],
      "execution_count": 5,
      "outputs": [],
      "id": "dd5XiXj1EOs1"
    },
    {
      "cell_type": "markdown",
      "id": "1465ddb8-00f0-493c-8a8e-568f16ea2c98",
      "metadata": {
        "id": "1465ddb8-00f0-493c-8a8e-568f16ea2c98",
        "tags": []
      },
      "source": [
        "# First part: Deep Learning"
      ]
    },
    {
      "cell_type": "code",
      "execution_count": 6,
      "id": "6e3dbfd5-a260-4982-9952-c702ad8ccb25",
      "metadata": {
        "id": "6e3dbfd5-a260-4982-9952-c702ad8ccb25",
        "tags": []
      },
      "outputs": [],
      "source": [
        "import numpy as np\n",
        "import torch\n",
        "import pytorch_lightning as pl\n",
        "\n",
        "from torchvision import datasets\n",
        "import matplotlib.pyplot as plt\n",
        "import flowiz as fz\n",
        "\n",
        "from dataset import  FlowDataModule\n",
        "from models.flowNetS import FlowNetS\n",
        "from models.raft import RAFT\n",
        "\n",
        "from utilities.videoUtilities import extract_frames, saveVideo\n",
        "from utilities.flowUtilities import computeFlow, flowVideo\n",
        "from utilities.keyFramesUtilities import find_center_of_gravity, save_key_frames\n",
        "from utilities.signalUtilities import  movingAverage, findKeyPoints, normalizeZeroMean"
      ]
    },
    {
      "cell_type": "markdown",
      "id": "6a539600-eb47-45c7-81ed-c5762d0fff63",
      "metadata": {
        "id": "6a539600-eb47-45c7-81ed-c5762d0fff63",
        "tags": []
      },
      "source": [
        "# datasets"
      ]
    },
    {
      "cell_type": "markdown",
      "id": "2b6b954c-367d-434c-9706-4039d875226f",
      "metadata": {
        "id": "2b6b954c-367d-434c-9706-4039d875226f",
        "tags": []
      },
      "source": [
        "let's visualize how torch vison dataset FlyingChairs works"
      ]
    },
    {
      "cell_type": "code",
      "execution_count": 7,
      "id": "f1bdc535-3d97-4a29-8caf-ae8fc429ad11",
      "metadata": {
        "id": "f1bdc535-3d97-4a29-8caf-ae8fc429ad11"
      },
      "outputs": [],
      "source": [
        "loadedDataset= datasets.Sintel(root='./dataset',\n",
        "                              split = \"train\", \n",
        "                              #transforms = dataModulo.dataset_transformation,\n",
        "                              pass_name = \"clean\"\n",
        "                                )"
      ]
    },
    {
      "cell_type": "code",
      "execution_count": 8,
      "id": "d48f9cdc-6bbf-4be3-a812-100841a0c525",
      "metadata": {
        "id": "d48f9cdc-6bbf-4be3-a812-100841a0c525",
        "outputId": "b06523d0-9e9c-4cc6-83e7-0d1645e1a0a2",
        "colab": {
          "base_uri": "https://localhost:8080/",
          "height": 220
        }
      },
      "outputs": [
        {
          "output_type": "stream",
          "name": "stdout",
          "text": [
            "image1 in dataset has shape: (436, 1024, 3)\n",
            "image2 in dataset has shape: (436, 1024, 3)\n",
            "flow image in dataset has shape: (2, 436, 1024)\n",
            "flow image in dataset has this new shape: (436, 1024, 2)\n"
          ]
        },
        {
          "output_type": "execute_result",
          "data": {
            "text/plain": [
              "<matplotlib.image.AxesImage at 0x7fb148bfa4f0>"
            ]
          },
          "metadata": {},
          "execution_count": 8
        },
        {
          "output_type": "display_data",
          "data": {
            "text/plain": [
              "<Figure size 1080x720 with 3 Axes>"
            ],
            "image/png": "[encoded data removed]"
          },
          "metadata": {
            "needs_background": "light"
          }
        }
      ],
      "source": [
        "\"\"\"\n",
        "dataset gives back triplets [image1,image2, targetFlow]\n",
        "\"\"\"\n",
        "\n",
        "triplet=loadedDataset[10]\n",
        "img1,img2,flow= triplet\n",
        "\n",
        "img1=np.asarray(img1)\n",
        "img2=np.asarray(img2)\n",
        "\n",
        "print (f\"image1 in dataset has shape: {img1.shape}\")\n",
        "print (f\"image2 in dataset has shape: {img2.shape}\")\n",
        "\n",
        "print (f\"flow image in dataset has shape: {flow.shape}\")\n",
        "flow=np.transpose (flow,(1,2,0))\n",
        "print (f\"flow image in dataset has this new shape: {flow.shape}\")\n",
        "\n",
        "flow=fz.convert_from_flow(flow) \n",
        "\n",
        "plt.figure(figsize=(15,10))\n",
        "plt.subplot(1, 3, 1)\n",
        "plt.imshow(img1)\n",
        "plt.subplot(1, 3, 2)\n",
        "plt.imshow(img2)\n",
        "plt.subplot(1, 3, 3)\n",
        "plt.imshow(flow)\n",
        "\n"
      ]
    },
    {
      "cell_type": "markdown",
      "id": "b9bc3116-66c4-4d9a-9f74-e761a3c3f76b",
      "metadata": {
        "id": "b9bc3116-66c4-4d9a-9f74-e761a3c3f76b",
        "tags": []
      },
      "source": [
        "## model training"
      ]
    },
    {
      "cell_type": "code",
      "execution_count": 9,
      "id": "1def3d31",
      "metadata": {
        "id": "1def3d31",
        "outputId": "2b6b349d-29f3-4336-d790-f140d6cdf7f2",
        "colab": {
          "base_uri": "https://localhost:8080/"
        }
      },
      "outputs": [
        {
          "output_type": "stream",
          "name": "stderr",
          "text": [
            "INFO:pytorch_lightning.utilities.rank_zero:GPU available: True (cuda), used: True\n",
            "INFO:pytorch_lightning.utilities.rank_zero:TPU available: False, using: 0 TPU cores\n",
            "INFO:pytorch_lightning.utilities.rank_zero:IPU available: False, using: 0 IPUs\n",
            "INFO:pytorch_lightning.utilities.rank_zero:HPU available: False, using: 0 HPUs\n"
          ]
        }
      ],
      "source": [
        "save = torch.load(\"./models/checkpoint/flownets.pth.tar.pth\")#[\"state_dict\"]\n",
        "model  = FlowNetS(save)\n",
        "data=FlowDataModule(batch_size =1, workers=32,selected_dataset =\"Sintel\")\n",
        "\n",
        "trainer = pl.Trainer(accelerator= \"gpu\" if torch.cuda.is_available() else \"cpu\", \n",
        "                     max_epochs=20,             \n",
        "                     auto_lr_find=False, \n",
        "                     auto_scale_batch_size=False)"
      ]
    },
    {
      "cell_type": "code",
      "execution_count": 10,
      "id": "286e646b-1d45-4415-9c13-71f204493492",
      "metadata": {
        "id": "286e646b-1d45-4415-9c13-71f204493492",
        "tags": [],
        "colab": {
          "base_uri": "https://localhost:8080/",
          "height": 1000,
          "referenced_widgets": [
            "ac6442f440924876a55ac4088e70e89e",
            "f0120745976c4193b5921a42370d8535",
            "61eb48dfc36e40988fcdba1ac947bdb2",
            "e5e6d4cc1b1a406d9a71793d376a21a4",
            "c907901a85334cde95b1a519f16f23e2",
            "e1a8aa2bdaef49b19f51430f71270631",
            "d1abdf8a6e4a412cbba60b379ce4f364",
            "7eb50f622b9245bf9990d30f8897bede",
            "b7453115f7dc4060a33707f6acc22c89",
            "c8e38b6c1a08474c9035fd42b11ae139",
            "b7817ece6f684de3b7391471bf77df84",
            "d02a1d4cd2bb42cf882b686b8ef45f9e",
            "fc8f16c5715941d486b2de69c440629c",
            "5f62375b134540c4aa39b7f8f826146d",
            "91f034097eb34278bd34b8cadd5477f8",
            "99f08fdd795c4c8ab15f313750f1e9e3",
            "54caa3078395426fbce26cd8dac559a8",
            "7592e648951a4dc98831a43c64a8608c",
            "9e5685fd29ea41dd9b8fec8ba9fad495",
            "dd0e584c414e4dddab4f17f7294b1cab",
            "d4afe4e8372a4de0946dd4627ff7e67e",
            "ccafc9874cd64f9998733962b131fab4"
          ]
        },
        "outputId": "ec6bdcb2-93f2-4237-be90-d7047302348e"
      },
      "outputs": [
        {
          "output_type": "stream",
          "name": "stderr",
          "text": [
            "INFO:pytorch_lightning.accelerators.cuda:LOCAL_RANK: 0 - CUDA_VISIBLE_DEVICES: [0]\n",
            "INFO:pytorch_lightning.callbacks.model_summary:\n",
            "  | Name | Type        | Params\n",
            "-------------------------------------\n",
            "0 | net  | FlowNetSNet | 38.7 M\n",
            "-------------------------------------\n",
            "38.7 M    Trainable params\n",
            "0         Non-trainable params\n",
            "38.7 M    Total params\n",
            "154.702   Total estimated model params size (MB)\n",
            "/usr/local/lib/python3.8/dist-packages/torch/utils/data/dataloader.py:554: UserWarning: This DataLoader will create 32 worker processes in total. Our suggested max number of worker in current system is 2, which is smaller than what this DataLoader is going to create. Please be aware that excessive worker creation might get DataLoader running slow or even freeze, lower the worker number to avoid potential slowness/freeze if necessary.\n",
            "  warnings.warn(_create_warning_msg(\n"
          ]
        },
        {
          "output_type": "display_data",
          "data": {
            "text/plain": [
              "Training: 0it [00:00, ?it/s]"
            ],
            "application/vnd.jupyter.widget-view+json": {
              "version_major": 2,
              "version_minor": 0,
              "model_id": "ac6442f440924876a55ac4088e70e89e"
            }
          },
          "metadata": {}
        },
        {
          "output_type": "stream",
          "name": "stderr",
          "text": [
            "/usr/local/lib/python3.8/dist-packages/pytorch_lightning/trainer/call.py:48: UserWarning: Detected KeyboardInterrupt, attempting graceful shutdown...\n",
            "  rank_zero_warn(\"Detected KeyboardInterrupt, attempting graceful shutdown...\")\n",
            "INFO:pytorch_lightning.accelerators.cuda:LOCAL_RANK: 0 - CUDA_VISIBLE_DEVICES: [0]\n"
          ]
        },
        {
          "output_type": "display_data",
          "data": {
            "text/plain": [
              "Testing: 0it [00:00, ?it/s]"
            ],
            "application/vnd.jupyter.widget-view+json": {
              "version_major": 2,
              "version_minor": 0,
              "model_id": "d02a1d4cd2bb42cf882b686b8ef45f9e"
            }
          },
          "metadata": {}
        },
        {
          "output_type": "error",
          "ename": "TypeError",
          "evalue": "ignored",
          "traceback": [
            "\u001b[0;31m---------------------------------------------------------------------------\u001b[0m",
            "\u001b[0;31mTypeError\u001b[0m                                 Traceback (most recent call last)",
            "\u001b[0;32m<ipython-input-10-0a23da531cdf>\u001b[0m in \u001b[0;36m<module>\u001b[0;34m\u001b[0m\n\u001b[1;32m      1\u001b[0m \u001b[0mtrainer\u001b[0m\u001b[0;34m.\u001b[0m\u001b[0mfit\u001b[0m\u001b[0;34m(\u001b[0m\u001b[0mmodel\u001b[0m\u001b[0;34m,\u001b[0m\u001b[0mdata\u001b[0m \u001b[0;34m)\u001b[0m\u001b[0;34m\u001b[0m\u001b[0;34m\u001b[0m\u001b[0m\n\u001b[0;32m----> 2\u001b[0;31m \u001b[0mtrainer\u001b[0m\u001b[0;34m.\u001b[0m\u001b[0mtest\u001b[0m\u001b[0;34m(\u001b[0m\u001b[0mmodel\u001b[0m\u001b[0;34m,\u001b[0m \u001b[0mdata\u001b[0m\u001b[0;34m)\u001b[0m\u001b[0;34m\u001b[0m\u001b[0;34m\u001b[0m\u001b[0m\n\u001b[0m",
            "\u001b[0;32m/usr/local/lib/python3.8/dist-packages/pytorch_lightning/trainer/trainer.py\u001b[0m in \u001b[0;36mtest\u001b[0;34m(self, model, dataloaders, ckpt_path, verbose, datamodule)\u001b[0m\n\u001b[1;32m    792\u001b[0m             \u001b[0mmodel\u001b[0m \u001b[0;34m=\u001b[0m \u001b[0mself\u001b[0m\u001b[0;34m.\u001b[0m\u001b[0m_maybe_unwrap_optimized\u001b[0m\u001b[0;34m(\u001b[0m\u001b[0mmodel\u001b[0m\u001b[0;34m)\u001b[0m\u001b[0;34m\u001b[0m\u001b[0;34m\u001b[0m\u001b[0m\n\u001b[1;32m    793\u001b[0m             \u001b[0mself\u001b[0m\u001b[0;34m.\u001b[0m\u001b[0mstrategy\u001b[0m\u001b[0;34m.\u001b[0m\u001b[0m_lightning_module\u001b[0m \u001b[0;34m=\u001b[0m \u001b[0mmodel\u001b[0m\u001b[0;34m\u001b[0m\u001b[0;34m\u001b[0m\u001b[0m\n\u001b[0;32m--> 794\u001b[0;31m         return call._call_and_handle_interrupt(\n\u001b[0m\u001b[1;32m    795\u001b[0m             \u001b[0mself\u001b[0m\u001b[0;34m,\u001b[0m \u001b[0mself\u001b[0m\u001b[0;34m.\u001b[0m\u001b[0m_test_impl\u001b[0m\u001b[0;34m,\u001b[0m \u001b[0mmodel\u001b[0m\u001b[0;34m,\u001b[0m \u001b[0mdataloaders\u001b[0m\u001b[0;34m,\u001b[0m \u001b[0mckpt_path\u001b[0m\u001b[0;34m,\u001b[0m \u001b[0mverbose\u001b[0m\u001b[0;34m,\u001b[0m \u001b[0mdatamodule\u001b[0m\u001b[0;34m\u001b[0m\u001b[0;34m\u001b[0m\u001b[0m\n\u001b[1;32m    796\u001b[0m         )\n",
            "\u001b[0;32m/usr/local/lib/python3.8/dist-packages/pytorch_lightning/trainer/call.py\u001b[0m in \u001b[0;36m_call_and_handle_interrupt\u001b[0;34m(trainer, trainer_fn, *args, **kwargs)\u001b[0m\n\u001b[1;32m     36\u001b[0m             \u001b[0;32mreturn\u001b[0m \u001b[0mtrainer\u001b[0m\u001b[0;34m.\u001b[0m\u001b[0mstrategy\u001b[0m\u001b[0;34m.\u001b[0m\u001b[0mlauncher\u001b[0m\u001b[0;34m.\u001b[0m\u001b[0mlaunch\u001b[0m\u001b[0;34m(\u001b[0m\u001b[0mtrainer_fn\u001b[0m\u001b[0;34m,\u001b[0m \u001b[0;34m*\u001b[0m\u001b[0margs\u001b[0m\u001b[0;34m,\u001b[0m \u001b[0mtrainer\u001b[0m\u001b[0;34m=\u001b[0m\u001b[0mtrainer\u001b[0m\u001b[0;34m,\u001b[0m \u001b[0;34m**\u001b[0m\u001b[0mkwargs\u001b[0m\u001b[0;34m)\u001b[0m\u001b[0;34m\u001b[0m\u001b[0;34m\u001b[0m\u001b[0m\n\u001b[1;32m     37\u001b[0m         \u001b[0;32melse\u001b[0m\u001b[0;34m:\u001b[0m\u001b[0;34m\u001b[0m\u001b[0;34m\u001b[0m\u001b[0m\n\u001b[0;32m---> 38\u001b[0;31m             \u001b[0;32mreturn\u001b[0m \u001b[0mtrainer_fn\u001b[0m\u001b[0;34m(\u001b[0m\u001b[0;34m*\u001b[0m\u001b[0margs\u001b[0m\u001b[0;34m,\u001b[0m \u001b[0;34m**\u001b[0m\u001b[0mkwargs\u001b[0m\u001b[0;34m)\u001b[0m\u001b[0;34m\u001b[0m\u001b[0;34m\u001b[0m\u001b[0m\n\u001b[0m\u001b[1;32m     39\u001b[0m \u001b[0;34m\u001b[0m\u001b[0m\n\u001b[1;32m     40\u001b[0m     \u001b[0;32mexcept\u001b[0m \u001b[0m_TunerExitException\u001b[0m\u001b[0;34m:\u001b[0m\u001b[0;34m\u001b[0m\u001b[0;34m\u001b[0m\u001b[0m\n",
            "\u001b[0;32m/usr/local/lib/python3.8/dist-packages/pytorch_lightning/trainer/trainer.py\u001b[0m in \u001b[0;36m_test_impl\u001b[0;34m(self, model, dataloaders, ckpt_path, verbose, datamodule)\u001b[0m\n\u001b[1;32m    840\u001b[0m \u001b[0;34m\u001b[0m\u001b[0m\n\u001b[1;32m    841\u001b[0m         \u001b[0;31m# run test\u001b[0m\u001b[0;34m\u001b[0m\u001b[0;34m\u001b[0m\u001b[0;34m\u001b[0m\u001b[0m\n\u001b[0;32m--> 842\u001b[0;31m         \u001b[0mresults\u001b[0m \u001b[0;34m=\u001b[0m \u001b[0mself\u001b[0m\u001b[0;34m.\u001b[0m\u001b[0m_run\u001b[0m\u001b[0;34m(\u001b[0m\u001b[0mmodel\u001b[0m\u001b[0;34m,\u001b[0m \u001b[0mckpt_path\u001b[0m\u001b[0;34m=\u001b[0m\u001b[0mself\u001b[0m\u001b[0;34m.\u001b[0m\u001b[0mckpt_path\u001b[0m\u001b[0;34m)\u001b[0m\u001b[0;34m\u001b[0m\u001b[0;34m\u001b[0m\u001b[0m\n\u001b[0m\u001b[1;32m    843\u001b[0m \u001b[0;34m\u001b[0m\u001b[0m\n\u001b[1;32m    844\u001b[0m         \u001b[0;32massert\u001b[0m \u001b[0mself\u001b[0m\u001b[0;34m.\u001b[0m\u001b[0mstate\u001b[0m\u001b[0;34m.\u001b[0m\u001b[0mstopped\u001b[0m\u001b[0;34m\u001b[0m\u001b[0;34m\u001b[0m\u001b[0m\n",
            "\u001b[0;32m/usr/local/lib/python3.8/dist-packages/pytorch_lightning/trainer/trainer.py\u001b[0m in \u001b[0;36m_run\u001b[0;34m(self, model, ckpt_path)\u001b[0m\n\u001b[1;32m   1110\u001b[0m         \u001b[0mself\u001b[0m\u001b[0;34m.\u001b[0m\u001b[0m_checkpoint_connector\u001b[0m\u001b[0;34m.\u001b[0m\u001b[0mresume_end\u001b[0m\u001b[0;34m(\u001b[0m\u001b[0;34m)\u001b[0m\u001b[0;34m\u001b[0m\u001b[0;34m\u001b[0m\u001b[0m\n\u001b[1;32m   1111\u001b[0m \u001b[0;34m\u001b[0m\u001b[0m\n\u001b[0;32m-> 1112\u001b[0;31m         \u001b[0mresults\u001b[0m \u001b[0;34m=\u001b[0m \u001b[0mself\u001b[0m\u001b[0;34m.\u001b[0m\u001b[0m_run_stage\u001b[0m\u001b[0;34m(\u001b[0m\u001b[0;34m)\u001b[0m\u001b[0;34m\u001b[0m\u001b[0;34m\u001b[0m\u001b[0m\n\u001b[0m\u001b[1;32m   1113\u001b[0m \u001b[0;34m\u001b[0m\u001b[0m\n\u001b[1;32m   1114\u001b[0m         \u001b[0mlog\u001b[0m\u001b[0;34m.\u001b[0m\u001b[0mdetail\u001b[0m\u001b[0;34m(\u001b[0m\u001b[0;34mf\"{self.__class__.__name__}: trainer tearing down\"\u001b[0m\u001b[0;34m)\u001b[0m\u001b[0;34m\u001b[0m\u001b[0;34m\u001b[0m\u001b[0m\n",
            "\u001b[0;32m/usr/local/lib/python3.8/dist-packages/pytorch_lightning/trainer/trainer.py\u001b[0m in \u001b[0;36m_run_stage\u001b[0;34m(self)\u001b[0m\n\u001b[1;32m   1186\u001b[0m \u001b[0;34m\u001b[0m\u001b[0m\n\u001b[1;32m   1187\u001b[0m         \u001b[0;32mif\u001b[0m \u001b[0mself\u001b[0m\u001b[0;34m.\u001b[0m\u001b[0mevaluating\u001b[0m\u001b[0;34m:\u001b[0m\u001b[0;34m\u001b[0m\u001b[0;34m\u001b[0m\u001b[0m\n\u001b[0;32m-> 1188\u001b[0;31m             \u001b[0;32mreturn\u001b[0m \u001b[0mself\u001b[0m\u001b[0;34m.\u001b[0m\u001b[0m_run_evaluate\u001b[0m\u001b[0;34m(\u001b[0m\u001b[0;34m)\u001b[0m\u001b[0;34m\u001b[0m\u001b[0;34m\u001b[0m\u001b[0m\n\u001b[0m\u001b[1;32m   1189\u001b[0m         \u001b[0;32mif\u001b[0m \u001b[0mself\u001b[0m\u001b[0;34m.\u001b[0m\u001b[0mpredicting\u001b[0m\u001b[0;34m:\u001b[0m\u001b[0;34m\u001b[0m\u001b[0;34m\u001b[0m\u001b[0m\n\u001b[1;32m   1190\u001b[0m             \u001b[0;32mreturn\u001b[0m \u001b[0mself\u001b[0m\u001b[0;34m.\u001b[0m\u001b[0m_run_predict\u001b[0m\u001b[0;34m(\u001b[0m\u001b[0;34m)\u001b[0m\u001b[0;34m\u001b[0m\u001b[0;34m\u001b[0m\u001b[0m\n",
            "\u001b[0;32m/usr/local/lib/python3.8/dist-packages/pytorch_lightning/trainer/trainer.py\u001b[0m in \u001b[0;36m_run_evaluate\u001b[0;34m(self)\u001b[0m\n\u001b[1;32m   1226\u001b[0m             \u001b[0mself\u001b[0m\u001b[0;34m.\u001b[0m\u001b[0maccelerator\u001b[0m\u001b[0;34m,\u001b[0m \u001b[0mself\u001b[0m\u001b[0;34m.\u001b[0m\u001b[0m_inference_mode\u001b[0m\u001b[0;34m\u001b[0m\u001b[0;34m\u001b[0m\u001b[0m\n\u001b[1;32m   1227\u001b[0m         ):\n\u001b[0;32m-> 1228\u001b[0;31m             \u001b[0meval_loop_results\u001b[0m \u001b[0;34m=\u001b[0m \u001b[0mself\u001b[0m\u001b[0;34m.\u001b[0m\u001b[0m_evaluation_loop\u001b[0m\u001b[0;34m.\u001b[0m\u001b[0mrun\u001b[0m\u001b[0;34m(\u001b[0m\u001b[0;34m)\u001b[0m\u001b[0;34m\u001b[0m\u001b[0;34m\u001b[0m\u001b[0m\n\u001b[0m\u001b[1;32m   1229\u001b[0m \u001b[0;34m\u001b[0m\u001b[0m\n\u001b[1;32m   1230\u001b[0m         \u001b[0;31m# remove the tensors from the eval results\u001b[0m\u001b[0;34m\u001b[0m\u001b[0;34m\u001b[0m\u001b[0;34m\u001b[0m\u001b[0m\n",
            "\u001b[0;32m/usr/local/lib/python3.8/dist-packages/pytorch_lightning/loops/loop.py\u001b[0m in \u001b[0;36mrun\u001b[0;34m(self, *args, **kwargs)\u001b[0m\n\u001b[1;32m    197\u001b[0m             \u001b[0;32mtry\u001b[0m\u001b[0;34m:\u001b[0m\u001b[0;34m\u001b[0m\u001b[0;34m\u001b[0m\u001b[0m\n\u001b[1;32m    198\u001b[0m                 \u001b[0mself\u001b[0m\u001b[0;34m.\u001b[0m\u001b[0mon_advance_start\u001b[0m\u001b[0;34m(\u001b[0m\u001b[0;34m*\u001b[0m\u001b[0margs\u001b[0m\u001b[0;34m,\u001b[0m \u001b[0;34m**\u001b[0m\u001b[0mkwargs\u001b[0m\u001b[0;34m)\u001b[0m\u001b[0;34m\u001b[0m\u001b[0;34m\u001b[0m\u001b[0m\n\u001b[0;32m--> 199\u001b[0;31m                 \u001b[0mself\u001b[0m\u001b[0;34m.\u001b[0m\u001b[0madvance\u001b[0m\u001b[0;34m(\u001b[0m\u001b[0;34m*\u001b[0m\u001b[0margs\u001b[0m\u001b[0;34m,\u001b[0m \u001b[0;34m**\u001b[0m\u001b[0mkwargs\u001b[0m\u001b[0;34m)\u001b[0m\u001b[0;34m\u001b[0m\u001b[0;34m\u001b[0m\u001b[0m\n\u001b[0m\u001b[1;32m    200\u001b[0m                 \u001b[0mself\u001b[0m\u001b[0;34m.\u001b[0m\u001b[0mon_advance_end\u001b[0m\u001b[0;34m(\u001b[0m\u001b[0;34m)\u001b[0m\u001b[0;34m\u001b[0m\u001b[0;34m\u001b[0m\u001b[0m\n\u001b[1;32m    201\u001b[0m                 \u001b[0mself\u001b[0m\u001b[0;34m.\u001b[0m\u001b[0m_restarting\u001b[0m \u001b[0;34m=\u001b[0m \u001b[0;32mFalse\u001b[0m\u001b[0;34m\u001b[0m\u001b[0;34m\u001b[0m\u001b[0m\n",
            "\u001b[0;32m/usr/local/lib/python3.8/dist-packages/pytorch_lightning/loops/dataloader/evaluation_loop.py\u001b[0m in \u001b[0;36madvance\u001b[0;34m(self, *args, **kwargs)\u001b[0m\n\u001b[1;32m    150\u001b[0m         \u001b[0;32mif\u001b[0m \u001b[0mself\u001b[0m\u001b[0;34m.\u001b[0m\u001b[0mnum_dataloaders\u001b[0m \u001b[0;34m>\u001b[0m \u001b[0;36m1\u001b[0m\u001b[0;34m:\u001b[0m\u001b[0;34m\u001b[0m\u001b[0;34m\u001b[0m\u001b[0m\n\u001b[1;32m    151\u001b[0m             \u001b[0mkwargs\u001b[0m\u001b[0;34m[\u001b[0m\u001b[0;34m\"dataloader_idx\"\u001b[0m\u001b[0;34m]\u001b[0m \u001b[0;34m=\u001b[0m \u001b[0mdataloader_idx\u001b[0m\u001b[0;34m\u001b[0m\u001b[0;34m\u001b[0m\u001b[0m\n\u001b[0;32m--> 152\u001b[0;31m         \u001b[0mdl_outputs\u001b[0m \u001b[0;34m=\u001b[0m \u001b[0mself\u001b[0m\u001b[0;34m.\u001b[0m\u001b[0mepoch_loop\u001b[0m\u001b[0;34m.\u001b[0m\u001b[0mrun\u001b[0m\u001b[0;34m(\u001b[0m\u001b[0mself\u001b[0m\u001b[0;34m.\u001b[0m\u001b[0m_data_fetcher\u001b[0m\u001b[0;34m,\u001b[0m \u001b[0mdl_max_batches\u001b[0m\u001b[0;34m,\u001b[0m \u001b[0mkwargs\u001b[0m\u001b[0;34m)\u001b[0m\u001b[0;34m\u001b[0m\u001b[0;34m\u001b[0m\u001b[0m\n\u001b[0m\u001b[1;32m    153\u001b[0m \u001b[0;34m\u001b[0m\u001b[0m\n\u001b[1;32m    154\u001b[0m         \u001b[0;31m# store batch level output per dataloader\u001b[0m\u001b[0;34m\u001b[0m\u001b[0;34m\u001b[0m\u001b[0;34m\u001b[0m\u001b[0m\n",
            "\u001b[0;32m/usr/local/lib/python3.8/dist-packages/pytorch_lightning/loops/loop.py\u001b[0m in \u001b[0;36mrun\u001b[0;34m(self, *args, **kwargs)\u001b[0m\n\u001b[1;32m    197\u001b[0m             \u001b[0;32mtry\u001b[0m\u001b[0;34m:\u001b[0m\u001b[0;34m\u001b[0m\u001b[0;34m\u001b[0m\u001b[0m\n\u001b[1;32m    198\u001b[0m                 \u001b[0mself\u001b[0m\u001b[0;34m.\u001b[0m\u001b[0mon_advance_start\u001b[0m\u001b[0;34m(\u001b[0m\u001b[0;34m*\u001b[0m\u001b[0margs\u001b[0m\u001b[0;34m,\u001b[0m \u001b[0;34m**\u001b[0m\u001b[0mkwargs\u001b[0m\u001b[0;34m)\u001b[0m\u001b[0;34m\u001b[0m\u001b[0;34m\u001b[0m\u001b[0m\n\u001b[0;32m--> 199\u001b[0;31m                 \u001b[0mself\u001b[0m\u001b[0;34m.\u001b[0m\u001b[0madvance\u001b[0m\u001b[0;34m(\u001b[0m\u001b[0;34m*\u001b[0m\u001b[0margs\u001b[0m\u001b[0;34m,\u001b[0m \u001b[0;34m**\u001b[0m\u001b[0mkwargs\u001b[0m\u001b[0;34m)\u001b[0m\u001b[0;34m\u001b[0m\u001b[0;34m\u001b[0m\u001b[0m\n\u001b[0m\u001b[1;32m    200\u001b[0m                 \u001b[0mself\u001b[0m\u001b[0;34m.\u001b[0m\u001b[0mon_advance_end\u001b[0m\u001b[0;34m(\u001b[0m\u001b[0;34m)\u001b[0m\u001b[0;34m\u001b[0m\u001b[0;34m\u001b[0m\u001b[0m\n\u001b[1;32m    201\u001b[0m                 \u001b[0mself\u001b[0m\u001b[0;34m.\u001b[0m\u001b[0m_restarting\u001b[0m \u001b[0;34m=\u001b[0m \u001b[0;32mFalse\u001b[0m\u001b[0;34m\u001b[0m\u001b[0;34m\u001b[0m\u001b[0m\n",
            "\u001b[0;32m/usr/local/lib/python3.8/dist-packages/pytorch_lightning/loops/epoch/evaluation_epoch_loop.py\u001b[0m in \u001b[0;36madvance\u001b[0;34m(self, data_fetcher, dl_max_batches, kwargs)\u001b[0m\n\u001b[1;32m    119\u001b[0m         \u001b[0;32mif\u001b[0m \u001b[0;32mnot\u001b[0m \u001b[0misinstance\u001b[0m\u001b[0;34m(\u001b[0m\u001b[0mdata_fetcher\u001b[0m\u001b[0;34m,\u001b[0m \u001b[0mDataLoaderIterDataFetcher\u001b[0m\u001b[0;34m)\u001b[0m\u001b[0;34m:\u001b[0m\u001b[0;34m\u001b[0m\u001b[0;34m\u001b[0m\u001b[0m\n\u001b[1;32m    120\u001b[0m             \u001b[0mbatch_idx\u001b[0m \u001b[0;34m=\u001b[0m \u001b[0mself\u001b[0m\u001b[0;34m.\u001b[0m\u001b[0mbatch_progress\u001b[0m\u001b[0;34m.\u001b[0m\u001b[0mcurrent\u001b[0m\u001b[0;34m.\u001b[0m\u001b[0mready\u001b[0m\u001b[0;34m\u001b[0m\u001b[0;34m\u001b[0m\u001b[0m\n\u001b[0;32m--> 121\u001b[0;31m             \u001b[0mbatch\u001b[0m \u001b[0;34m=\u001b[0m \u001b[0mnext\u001b[0m\u001b[0;34m(\u001b[0m\u001b[0mdata_fetcher\u001b[0m\u001b[0;34m)\u001b[0m\u001b[0;34m\u001b[0m\u001b[0;34m\u001b[0m\u001b[0m\n\u001b[0m\u001b[1;32m    122\u001b[0m         \u001b[0;32melse\u001b[0m\u001b[0;34m:\u001b[0m\u001b[0;34m\u001b[0m\u001b[0;34m\u001b[0m\u001b[0m\n\u001b[1;32m    123\u001b[0m             \u001b[0mbatch_idx\u001b[0m\u001b[0;34m,\u001b[0m \u001b[0mbatch\u001b[0m \u001b[0;34m=\u001b[0m \u001b[0mnext\u001b[0m\u001b[0;34m(\u001b[0m\u001b[0mdata_fetcher\u001b[0m\u001b[0;34m)\u001b[0m\u001b[0;34m\u001b[0m\u001b[0;34m\u001b[0m\u001b[0m\n",
            "\u001b[0;32m/usr/local/lib/python3.8/dist-packages/pytorch_lightning/utilities/fetching.py\u001b[0m in \u001b[0;36m__next__\u001b[0;34m(self)\u001b[0m\n\u001b[1;32m    182\u001b[0m \u001b[0;34m\u001b[0m\u001b[0m\n\u001b[1;32m    183\u001b[0m     \u001b[0;32mdef\u001b[0m \u001b[0m__next__\u001b[0m\u001b[0;34m(\u001b[0m\u001b[0mself\u001b[0m\u001b[0;34m)\u001b[0m \u001b[0;34m->\u001b[0m \u001b[0mAny\u001b[0m\u001b[0;34m:\u001b[0m\u001b[0;34m\u001b[0m\u001b[0;34m\u001b[0m\u001b[0m\n\u001b[0;32m--> 184\u001b[0;31m         \u001b[0;32mreturn\u001b[0m \u001b[0mself\u001b[0m\u001b[0;34m.\u001b[0m\u001b[0mfetching_function\u001b[0m\u001b[0;34m(\u001b[0m\u001b[0;34m)\u001b[0m\u001b[0;34m\u001b[0m\u001b[0;34m\u001b[0m\u001b[0m\n\u001b[0m\u001b[1;32m    185\u001b[0m \u001b[0;34m\u001b[0m\u001b[0m\n\u001b[1;32m    186\u001b[0m     \u001b[0;32mdef\u001b[0m \u001b[0mreset\u001b[0m\u001b[0;34m(\u001b[0m\u001b[0mself\u001b[0m\u001b[0;34m)\u001b[0m \u001b[0;34m->\u001b[0m \u001b[0;32mNone\u001b[0m\u001b[0;34m:\u001b[0m\u001b[0;34m\u001b[0m\u001b[0;34m\u001b[0m\u001b[0m\n",
            "\u001b[0;32m/usr/local/lib/python3.8/dist-packages/pytorch_lightning/utilities/fetching.py\u001b[0m in \u001b[0;36mfetching_function\u001b[0;34m(self)\u001b[0m\n\u001b[1;32m    263\u001b[0m             \u001b[0;31m# this will run only when no pre-fetching was done.\u001b[0m\u001b[0;34m\u001b[0m\u001b[0;34m\u001b[0m\u001b[0;34m\u001b[0m\u001b[0m\n\u001b[1;32m    264\u001b[0m             \u001b[0;32mtry\u001b[0m\u001b[0;34m:\u001b[0m\u001b[0;34m\u001b[0m\u001b[0;34m\u001b[0m\u001b[0m\n\u001b[0;32m--> 265\u001b[0;31m                 \u001b[0mself\u001b[0m\u001b[0;34m.\u001b[0m\u001b[0m_fetch_next_batch\u001b[0m\u001b[0;34m(\u001b[0m\u001b[0mself\u001b[0m\u001b[0;34m.\u001b[0m\u001b[0mdataloader_iter\u001b[0m\u001b[0;34m)\u001b[0m\u001b[0;34m\u001b[0m\u001b[0;34m\u001b[0m\u001b[0m\n\u001b[0m\u001b[1;32m    266\u001b[0m                 \u001b[0;31m# consume the batch we just fetched\u001b[0m\u001b[0;34m\u001b[0m\u001b[0;34m\u001b[0m\u001b[0;34m\u001b[0m\u001b[0m\n\u001b[1;32m    267\u001b[0m                 \u001b[0mbatch\u001b[0m \u001b[0;34m=\u001b[0m \u001b[0mself\u001b[0m\u001b[0;34m.\u001b[0m\u001b[0mbatches\u001b[0m\u001b[0;34m.\u001b[0m\u001b[0mpop\u001b[0m\u001b[0;34m(\u001b[0m\u001b[0;36m0\u001b[0m\u001b[0;34m)\u001b[0m\u001b[0;34m\u001b[0m\u001b[0;34m\u001b[0m\u001b[0m\n",
            "\u001b[0;32m/usr/local/lib/python3.8/dist-packages/pytorch_lightning/utilities/fetching.py\u001b[0m in \u001b[0;36m_fetch_next_batch\u001b[0;34m(self, iterator)\u001b[0m\n\u001b[1;32m    278\u001b[0m         \u001b[0mstart_output\u001b[0m \u001b[0;34m=\u001b[0m \u001b[0mself\u001b[0m\u001b[0;34m.\u001b[0m\u001b[0mon_fetch_start\u001b[0m\u001b[0;34m(\u001b[0m\u001b[0;34m)\u001b[0m\u001b[0;34m\u001b[0m\u001b[0;34m\u001b[0m\u001b[0m\n\u001b[1;32m    279\u001b[0m         \u001b[0;32mtry\u001b[0m\u001b[0;34m:\u001b[0m\u001b[0;34m\u001b[0m\u001b[0;34m\u001b[0m\u001b[0m\n\u001b[0;32m--> 280\u001b[0;31m             \u001b[0mbatch\u001b[0m \u001b[0;34m=\u001b[0m \u001b[0mnext\u001b[0m\u001b[0;34m(\u001b[0m\u001b[0miterator\u001b[0m\u001b[0;34m)\u001b[0m\u001b[0;34m\u001b[0m\u001b[0;34m\u001b[0m\u001b[0m\n\u001b[0m\u001b[1;32m    281\u001b[0m         \u001b[0;32mexcept\u001b[0m \u001b[0mStopIteration\u001b[0m \u001b[0;32mas\u001b[0m \u001b[0me\u001b[0m\u001b[0;34m:\u001b[0m\u001b[0;34m\u001b[0m\u001b[0;34m\u001b[0m\u001b[0m\n\u001b[1;32m    282\u001b[0m             \u001b[0mself\u001b[0m\u001b[0;34m.\u001b[0m\u001b[0m_stop_profiler\u001b[0m\u001b[0;34m(\u001b[0m\u001b[0;34m)\u001b[0m\u001b[0;34m\u001b[0m\u001b[0;34m\u001b[0m\u001b[0m\n",
            "\u001b[0;32m/usr/local/lib/python3.8/dist-packages/torch/utils/data/dataloader.py\u001b[0m in \u001b[0;36m__next__\u001b[0;34m(self)\u001b[0m\n\u001b[1;32m    626\u001b[0m                 \u001b[0;31m# TODO(https://github.com/pytorch/pytorch/issues/76750)\u001b[0m\u001b[0;34m\u001b[0m\u001b[0;34m\u001b[0m\u001b[0;34m\u001b[0m\u001b[0m\n\u001b[1;32m    627\u001b[0m                 \u001b[0mself\u001b[0m\u001b[0;34m.\u001b[0m\u001b[0m_reset\u001b[0m\u001b[0;34m(\u001b[0m\u001b[0;34m)\u001b[0m  \u001b[0;31m# type: ignore[call-arg]\u001b[0m\u001b[0;34m\u001b[0m\u001b[0;34m\u001b[0m\u001b[0m\n\u001b[0;32m--> 628\u001b[0;31m             \u001b[0mdata\u001b[0m \u001b[0;34m=\u001b[0m \u001b[0mself\u001b[0m\u001b[0;34m.\u001b[0m\u001b[0m_next_data\u001b[0m\u001b[0;34m(\u001b[0m\u001b[0;34m)\u001b[0m\u001b[0;34m\u001b[0m\u001b[0;34m\u001b[0m\u001b[0m\n\u001b[0m\u001b[1;32m    629\u001b[0m             \u001b[0mself\u001b[0m\u001b[0;34m.\u001b[0m\u001b[0m_num_yielded\u001b[0m \u001b[0;34m+=\u001b[0m \u001b[0;36m1\u001b[0m\u001b[0;34m\u001b[0m\u001b[0;34m\u001b[0m\u001b[0m\n\u001b[1;32m    630\u001b[0m             \u001b[0;32mif\u001b[0m \u001b[0mself\u001b[0m\u001b[0;34m.\u001b[0m\u001b[0m_dataset_kind\u001b[0m \u001b[0;34m==\u001b[0m \u001b[0m_DatasetKind\u001b[0m\u001b[0;34m.\u001b[0m\u001b[0mIterable\u001b[0m \u001b[0;32mand\u001b[0m\u001b[0;31m \u001b[0m\u001b[0;31m\\\u001b[0m\u001b[0;34m\u001b[0m\u001b[0;34m\u001b[0m\u001b[0m\n",
            "\u001b[0;32m/usr/local/lib/python3.8/dist-packages/torch/utils/data/dataloader.py\u001b[0m in \u001b[0;36m_next_data\u001b[0;34m(self)\u001b[0m\n\u001b[1;32m   1331\u001b[0m             \u001b[0;32melse\u001b[0m\u001b[0;34m:\u001b[0m\u001b[0;34m\u001b[0m\u001b[0;34m\u001b[0m\u001b[0m\n\u001b[1;32m   1332\u001b[0m                 \u001b[0;32mdel\u001b[0m \u001b[0mself\u001b[0m\u001b[0;34m.\u001b[0m\u001b[0m_task_info\u001b[0m\u001b[0;34m[\u001b[0m\u001b[0midx\u001b[0m\u001b[0;34m]\u001b[0m\u001b[0;34m\u001b[0m\u001b[0;34m\u001b[0m\u001b[0m\n\u001b[0;32m-> 1333\u001b[0;31m                 \u001b[0;32mreturn\u001b[0m \u001b[0mself\u001b[0m\u001b[0;34m.\u001b[0m\u001b[0m_process_data\u001b[0m\u001b[0;34m(\u001b[0m\u001b[0mdata\u001b[0m\u001b[0;34m)\u001b[0m\u001b[0;34m\u001b[0m\u001b[0;34m\u001b[0m\u001b[0m\n\u001b[0m\u001b[1;32m   1334\u001b[0m \u001b[0;34m\u001b[0m\u001b[0m\n\u001b[1;32m   1335\u001b[0m     \u001b[0;32mdef\u001b[0m \u001b[0m_try_put_index\u001b[0m\u001b[0;34m(\u001b[0m\u001b[0mself\u001b[0m\u001b[0;34m)\u001b[0m\u001b[0;34m:\u001b[0m\u001b[0;34m\u001b[0m\u001b[0;34m\u001b[0m\u001b[0m\n",
            "\u001b[0;32m/usr/local/lib/python3.8/dist-packages/torch/utils/data/dataloader.py\u001b[0m in \u001b[0;36m_process_data\u001b[0;34m(self, data)\u001b[0m\n\u001b[1;32m   1357\u001b[0m         \u001b[0mself\u001b[0m\u001b[0;34m.\u001b[0m\u001b[0m_try_put_index\u001b[0m\u001b[0;34m(\u001b[0m\u001b[0;34m)\u001b[0m\u001b[0;34m\u001b[0m\u001b[0;34m\u001b[0m\u001b[0m\n\u001b[1;32m   1358\u001b[0m         \u001b[0;32mif\u001b[0m \u001b[0misinstance\u001b[0m\u001b[0;34m(\u001b[0m\u001b[0mdata\u001b[0m\u001b[0;34m,\u001b[0m \u001b[0mExceptionWrapper\u001b[0m\u001b[0;34m)\u001b[0m\u001b[0;34m:\u001b[0m\u001b[0;34m\u001b[0m\u001b[0;34m\u001b[0m\u001b[0m\n\u001b[0;32m-> 1359\u001b[0;31m             \u001b[0mdata\u001b[0m\u001b[0;34m.\u001b[0m\u001b[0mreraise\u001b[0m\u001b[0;34m(\u001b[0m\u001b[0;34m)\u001b[0m\u001b[0;34m\u001b[0m\u001b[0;34m\u001b[0m\u001b[0m\n\u001b[0m\u001b[1;32m   1360\u001b[0m         \u001b[0;32mreturn\u001b[0m \u001b[0mdata\u001b[0m\u001b[0;34m\u001b[0m\u001b[0;34m\u001b[0m\u001b[0m\n\u001b[1;32m   1361\u001b[0m \u001b[0;34m\u001b[0m\u001b[0m\n",
            "\u001b[0;32m/usr/local/lib/python3.8/dist-packages/torch/_utils.py\u001b[0m in \u001b[0;36mreraise\u001b[0;34m(self)\u001b[0m\n\u001b[1;32m    541\u001b[0m             \u001b[0;31m# instantiate since we don't know how to\u001b[0m\u001b[0;34m\u001b[0m\u001b[0;34m\u001b[0m\u001b[0;34m\u001b[0m\u001b[0m\n\u001b[1;32m    542\u001b[0m             \u001b[0;32mraise\u001b[0m \u001b[0mRuntimeError\u001b[0m\u001b[0;34m(\u001b[0m\u001b[0mmsg\u001b[0m\u001b[0;34m)\u001b[0m \u001b[0;32mfrom\u001b[0m \u001b[0;32mNone\u001b[0m\u001b[0;34m\u001b[0m\u001b[0;34m\u001b[0m\u001b[0m\n\u001b[0;32m--> 543\u001b[0;31m         \u001b[0;32mraise\u001b[0m \u001b[0mexception\u001b[0m\u001b[0;34m\u001b[0m\u001b[0;34m\u001b[0m\u001b[0m\n\u001b[0m\u001b[1;32m    544\u001b[0m \u001b[0;34m\u001b[0m\u001b[0m\n\u001b[1;32m    545\u001b[0m \u001b[0;34m\u001b[0m\u001b[0m\n",
            "\u001b[0;31mTypeError\u001b[0m: Caught TypeError in DataLoader worker process 0.\nOriginal Traceback (most recent call last):\n  File \"/usr/local/lib/python3.8/dist-packages/torch/utils/data/_utils/worker.py\", line 302, in _worker_loop\n    data = fetcher.fetch(index)\n  File \"/usr/local/lib/python3.8/dist-packages/torch/utils/data/_utils/fetch.py\", line 58, in fetch\n    data = [self.dataset[idx] for idx in possibly_batched_index]\n  File \"/usr/local/lib/python3.8/dist-packages/torch/utils/data/_utils/fetch.py\", line 58, in <listcomp>\n    data = [self.dataset[idx] for idx in possibly_batched_index]\n  File \"/usr/local/lib/python3.8/dist-packages/torchvision/datasets/_optical_flow.py\", line 155, in __getitem__\n    return super().__getitem__(index)\n  File \"/usr/local/lib/python3.8/dist-packages/torchvision/datasets/_optical_flow.py\", line 65, in __getitem__\n    img1, img2, flow, valid_flow_mask = self.transforms(img1, img2, flow, valid_flow_mask)\n  File \"/content/workuout_keyframe/dataset.py\", line 42, in dataset_transformation\n    flow=self.flow_transforms(flow)\n  File \"/usr/local/lib/python3.8/dist-packages/torchvision/transforms/transforms.py\", line 95, in __call__\n    img = t(img)\n  File \"/content/workuout_keyframe/dataset.py\", line 115, in FlowToTensor\n    tensor = torch.from_numpy(array2)\nTypeError: expected np.ndarray (got numpy.float32)\n"
          ]
        }
      ],
      "source": [
        "trainer.fit(model,data )\n",
        "trainer.test(model, data)"
      ]
    },
    {
      "cell_type": "markdown",
      "id": "0c08cfaa-b20c-413f-a21a-63a90677d4ea",
      "metadata": {
        "id": "0c08cfaa-b20c-413f-a21a-63a90677d4ea",
        "tags": []
      },
      "source": [
        "# Second part: Computing Pipeline"
      ]
    },
    {
      "cell_type": "code",
      "execution_count": 11,
      "id": "a7e327b9-4c5d-49b8-8a2b-b793228e73ff",
      "metadata": {
        "id": "a7e327b9-4c5d-49b8-8a2b-b793228e73ff"
      },
      "outputs": [],
      "source": [
        "device = torch.device(\"cuda\" if torch.cuda.is_available() else \"cpu\")\n",
        "save = torch.load(\"./models/checkpoint/flownets.pth.tar.pth\")#[\"state_dict\"]\n",
        "model  = FlowNetS(save)\n",
        "model.to(device)\n",
        "video_path= \"./input_video/pullup.mp4\"\n",
        "temp_extracted_frames=\"./temp/Frames/\"\n",
        "temp_processed_flow_frames=\"./temp/processedFloFrames/\""
      ]
    },
    {
      "cell_type": "code",
      "execution_count": 12,
      "id": "162671a2-491b-4b26-9221-d553d5da29fd",
      "metadata": {
        "id": "162671a2-491b-4b26-9221-d553d5da29fd",
        "outputId": "512bd94b-82f0-4832-9df8-f160d0994406",
        "colab": {
          "base_uri": "https://localhost:8080/"
        }
      },
      "outputs": [
        {
          "output_type": "stream",
          "name": "stderr",
          "text": [
            "\n",
            "  0%|          | 0/172 [00:00<?, ?it/s]\u001b[A\n",
            "  1%|          | 1/172 [00:00<00:24,  6.87it/s]\u001b[A\n",
            "  1%|          | 2/172 [00:00<00:24,  6.96it/s]\u001b[A\n",
            "  2%|▏         | 3/172 [00:00<00:24,  7.04it/s]\u001b[A\n",
            "  2%|▏         | 4/172 [00:00<00:23,  7.06it/s]\u001b[A\n",
            "  3%|▎         | 5/172 [00:00<00:23,  7.03it/s]\u001b[A\n",
            "  3%|▎         | 6/172 [00:00<00:24,  6.87it/s]\u001b[A\n",
            "  4%|▍         | 7/172 [00:01<00:24,  6.75it/s]\u001b[A\n",
            "  5%|▍         | 8/172 [00:01<00:23,  6.90it/s]\u001b[A\n",
            "  5%|▌         | 9/172 [00:01<00:23,  6.83it/s]\u001b[A\n",
            "  6%|▌         | 10/172 [00:01<00:23,  6.80it/s]\u001b[A\n",
            "  6%|▋         | 11/172 [00:01<00:23,  6.91it/s]\u001b[A\n",
            "  7%|▋         | 12/172 [00:01<00:26,  6.02it/s]\u001b[A\n",
            "  8%|▊         | 13/172 [00:01<00:25,  6.27it/s]\u001b[A\n",
            "  8%|▊         | 14/172 [00:02<00:23,  6.83it/s]\u001b[A\n",
            "  9%|▊         | 15/172 [00:02<00:21,  7.20it/s]\u001b[A\n",
            "  9%|▉         | 16/172 [00:02<00:20,  7.66it/s]\u001b[A\n",
            " 10%|▉         | 17/172 [00:02<00:19,  7.78it/s]\u001b[A\n",
            " 10%|█         | 18/172 [00:02<00:20,  7.46it/s]\u001b[A\n",
            " 11%|█         | 19/172 [00:02<00:19,  8.03it/s]\u001b[A\n",
            " 12%|█▏        | 20/172 [00:02<00:17,  8.51it/s]\u001b[A\n",
            " 12%|█▏        | 21/172 [00:02<00:17,  8.86it/s]\u001b[A\n",
            " 13%|█▎        | 22/172 [00:02<00:16,  9.10it/s]\u001b[A\n",
            " 13%|█▎        | 23/172 [00:03<00:16,  9.18it/s]\u001b[A\n",
            " 14%|█▍        | 24/172 [00:03<00:18,  8.00it/s]\u001b[A\n",
            " 15%|█▍        | 25/172 [00:03<00:17,  8.18it/s]\u001b[A\n",
            " 15%|█▌        | 26/172 [00:03<00:17,  8.58it/s]\u001b[A\n",
            " 16%|█▌        | 27/172 [00:03<00:16,  8.85it/s]\u001b[A\n",
            " 16%|█▋        | 28/172 [00:03<00:15,  9.02it/s]\u001b[A\n",
            " 17%|█▋        | 29/172 [00:03<00:15,  9.08it/s]\u001b[A\n",
            " 17%|█▋        | 30/172 [00:03<00:15,  9.24it/s]\u001b[A\n",
            " 18%|█▊        | 31/172 [00:03<00:15,  9.35it/s]\u001b[A\n",
            " 19%|█▊        | 32/172 [00:04<00:15,  9.15it/s]\u001b[A\n",
            " 20%|█▉        | 34/172 [00:04<00:14,  9.68it/s]\u001b[A\n",
            " 20%|██        | 35/172 [00:04<00:14,  9.51it/s]\u001b[A\n",
            " 21%|██        | 36/172 [00:04<00:14,  9.63it/s]\u001b[A\n",
            " 22%|██▏       | 37/172 [00:04<00:14,  9.60it/s]\u001b[A\n",
            " 22%|██▏       | 38/172 [00:04<00:14,  9.50it/s]\u001b[A\n",
            " 23%|██▎       | 39/172 [00:04<00:14,  9.31it/s]\u001b[A\n",
            " 23%|██▎       | 40/172 [00:04<00:14,  9.38it/s]\u001b[A\n",
            " 24%|██▍       | 41/172 [00:05<00:13,  9.42it/s]\u001b[A\n",
            " 24%|██▍       | 42/172 [00:05<00:13,  9.54it/s]\u001b[A\n",
            " 25%|██▌       | 43/172 [00:05<00:13,  9.60it/s]\u001b[A\n",
            " 26%|██▌       | 44/172 [00:05<00:13,  9.46it/s]\u001b[A\n",
            " 26%|██▌       | 45/172 [00:05<00:13,  9.37it/s]\u001b[A\n",
            " 27%|██▋       | 46/172 [00:05<00:13,  9.46it/s]\u001b[A\n",
            " 27%|██▋       | 47/172 [00:05<00:13,  9.42it/s]\u001b[A\n",
            " 28%|██▊       | 48/172 [00:05<00:13,  9.35it/s]\u001b[A\n",
            " 28%|██▊       | 49/172 [00:05<00:12,  9.47it/s]\u001b[A\n",
            " 29%|██▉       | 50/172 [00:06<00:12,  9.47it/s]\u001b[A\n",
            " 30%|██▉       | 51/172 [00:06<00:12,  9.49it/s]\u001b[A\n",
            " 30%|███       | 52/172 [00:06<00:13,  9.20it/s]\u001b[A\n",
            " 31%|███       | 53/172 [00:06<00:12,  9.38it/s]\u001b[A\n",
            " 31%|███▏      | 54/172 [00:06<00:12,  9.14it/s]\u001b[A\n",
            " 32%|███▏      | 55/172 [00:06<00:12,  9.30it/s]\u001b[A\n",
            " 33%|███▎      | 56/172 [00:06<00:12,  9.37it/s]\u001b[A\n",
            " 33%|███▎      | 57/172 [00:06<00:12,  9.47it/s]\u001b[A\n",
            " 34%|███▎      | 58/172 [00:06<00:12,  9.50it/s]\u001b[A\n",
            " 34%|███▍      | 59/172 [00:06<00:11,  9.55it/s]\u001b[A\n",
            " 35%|███▍      | 60/172 [00:07<00:11,  9.38it/s]\u001b[A\n",
            " 35%|███▌      | 61/172 [00:07<00:11,  9.33it/s]\u001b[A\n",
            " 36%|███▌      | 62/172 [00:07<00:11,  9.44it/s]\u001b[A\n",
            " 37%|███▋      | 63/172 [00:07<00:11,  9.56it/s]\u001b[A\n",
            " 37%|███▋      | 64/172 [00:07<00:11,  9.68it/s]\u001b[A\n",
            " 38%|███▊      | 65/172 [00:07<00:11,  9.57it/s]\u001b[A\n",
            " 38%|███▊      | 66/172 [00:07<00:11,  9.52it/s]\u001b[A\n",
            " 39%|███▉      | 67/172 [00:07<00:10,  9.56it/s]\u001b[A\n",
            " 40%|███▉      | 68/172 [00:07<00:10,  9.66it/s]\u001b[A\n",
            " 40%|████      | 69/172 [00:08<00:10,  9.65it/s]\u001b[A\n",
            " 41%|████      | 70/172 [00:08<00:10,  9.56it/s]\u001b[A\n",
            " 41%|████▏     | 71/172 [00:08<00:10,  9.60it/s]\u001b[A\n",
            " 42%|████▏     | 72/172 [00:08<00:10,  9.49it/s]\u001b[A\n",
            " 42%|████▏     | 73/172 [00:08<00:10,  9.35it/s]\u001b[A\n",
            " 43%|████▎     | 74/172 [00:08<00:10,  9.48it/s]\u001b[A\n",
            " 44%|████▎     | 75/172 [00:08<00:10,  9.37it/s]\u001b[A\n",
            " 44%|████▍     | 76/172 [00:08<00:10,  9.48it/s]\u001b[A\n",
            " 45%|████▍     | 77/172 [00:08<00:09,  9.53it/s]\u001b[A\n",
            " 45%|████▌     | 78/172 [00:08<00:09,  9.45it/s]\u001b[A\n",
            " 46%|████▌     | 79/172 [00:09<00:09,  9.54it/s]\u001b[A\n",
            " 47%|████▋     | 80/172 [00:09<00:09,  9.59it/s]\u001b[A\n",
            " 47%|████▋     | 81/172 [00:09<00:09,  9.56it/s]\u001b[A\n",
            " 48%|████▊     | 82/172 [00:09<00:09,  9.50it/s]\u001b[A\n",
            " 48%|████▊     | 83/172 [00:09<00:09,  9.21it/s]\u001b[A\n",
            " 49%|████▉     | 84/172 [00:09<00:09,  9.22it/s]\u001b[A\n",
            " 49%|████▉     | 85/172 [00:09<00:09,  9.34it/s]\u001b[A\n",
            " 50%|█████     | 86/172 [00:09<00:09,  9.37it/s]\u001b[A\n",
            " 51%|█████     | 87/172 [00:09<00:08,  9.53it/s]\u001b[A\n",
            " 51%|█████     | 88/172 [00:10<00:08,  9.59it/s]\u001b[A\n",
            " 52%|█████▏    | 89/172 [00:10<00:08,  9.70it/s]\u001b[A\n",
            " 52%|█████▏    | 90/172 [00:10<00:08,  9.45it/s]\u001b[A\n",
            " 53%|█████▎    | 91/172 [00:10<00:08,  9.55it/s]\u001b[A\n",
            " 53%|█████▎    | 92/172 [00:10<00:08,  9.56it/s]\u001b[A\n",
            " 54%|█████▍    | 93/172 [00:10<00:08,  9.51it/s]\u001b[A\n",
            " 55%|█████▍    | 94/172 [00:10<00:08,  9.41it/s]\u001b[A\n",
            " 55%|█████▌    | 95/172 [00:10<00:08,  9.52it/s]\u001b[A\n",
            " 56%|█████▌    | 96/172 [00:10<00:07,  9.62it/s]\u001b[A\n",
            " 56%|█████▋    | 97/172 [00:10<00:07,  9.39it/s]\u001b[A\n",
            " 57%|█████▋    | 98/172 [00:11<00:08,  9.11it/s]\u001b[A\n",
            " 58%|█████▊    | 99/172 [00:11<00:07,  9.31it/s]\u001b[A\n",
            " 58%|█████▊    | 100/172 [00:11<00:07,  9.27it/s]\u001b[A\n",
            " 59%|█████▊    | 101/172 [00:11<00:07,  9.23it/s]\u001b[A\n",
            " 59%|█████▉    | 102/172 [00:11<00:07,  9.10it/s]\u001b[A\n",
            " 60%|█████▉    | 103/172 [00:11<00:07,  9.02it/s]\u001b[A\n",
            " 60%|██████    | 104/172 [00:11<00:07,  9.08it/s]\u001b[A\n",
            " 61%|██████    | 105/172 [00:11<00:07,  9.23it/s]\u001b[A\n",
            " 62%|██████▏   | 106/172 [00:11<00:07,  9.37it/s]\u001b[A\n",
            " 62%|██████▏   | 107/172 [00:12<00:07,  8.63it/s]\u001b[A\n",
            " 63%|██████▎   | 108/172 [00:12<00:07,  8.29it/s]\u001b[A\n",
            " 63%|██████▎   | 109/172 [00:12<00:08,  7.78it/s]\u001b[A\n",
            " 64%|██████▍   | 110/172 [00:12<00:08,  7.23it/s]\u001b[A\n",
            " 65%|██████▍   | 111/172 [00:12<00:08,  7.08it/s]\u001b[A\n",
            " 65%|██████▌   | 112/172 [00:12<00:08,  7.03it/s]\u001b[A\n",
            " 66%|██████▌   | 113/172 [00:12<00:08,  7.03it/s]\u001b[A\n",
            " 66%|██████▋   | 114/172 [00:13<00:08,  7.00it/s]\u001b[A\n",
            " 67%|██████▋   | 115/172 [00:13<00:08,  6.82it/s]\u001b[A\n",
            " 67%|██████▋   | 116/172 [00:13<00:08,  6.98it/s]\u001b[A\n",
            " 68%|██████▊   | 117/172 [00:13<00:07,  6.99it/s]\u001b[A\n",
            " 69%|██████▊   | 118/172 [00:13<00:07,  6.95it/s]\u001b[A\n",
            " 69%|██████▉   | 119/172 [00:13<00:07,  6.85it/s]\u001b[A\n",
            " 70%|██████▉   | 120/172 [00:13<00:07,  7.02it/s]\u001b[A\n",
            " 70%|███████   | 121/172 [00:14<00:07,  6.97it/s]\u001b[A\n",
            " 71%|███████   | 122/172 [00:14<00:07,  6.94it/s]\u001b[A\n",
            " 72%|███████▏  | 123/172 [00:14<00:07,  6.99it/s]\u001b[A\n",
            " 72%|███████▏  | 124/172 [00:14<00:06,  7.15it/s]\u001b[A\n",
            " 73%|███████▎  | 125/172 [00:14<00:06,  6.95it/s]\u001b[A\n",
            " 73%|███████▎  | 126/172 [00:14<00:06,  6.92it/s]\u001b[A\n",
            " 74%|███████▍  | 127/172 [00:14<00:06,  6.97it/s]\u001b[A\n",
            " 74%|███████▍  | 128/172 [00:15<00:06,  6.99it/s]\u001b[A\n",
            " 75%|███████▌  | 129/172 [00:15<00:06,  7.15it/s]\u001b[A\n",
            " 76%|███████▌  | 130/172 [00:15<00:05,  7.23it/s]\u001b[A\n",
            " 76%|███████▌  | 131/172 [00:15<00:05,  7.26it/s]\u001b[A\n",
            " 77%|███████▋  | 132/172 [00:15<00:05,  7.20it/s]\u001b[A\n",
            " 77%|███████▋  | 133/172 [00:15<00:05,  7.18it/s]\u001b[A\n",
            " 78%|███████▊  | 134/172 [00:15<00:05,  7.12it/s]\u001b[A\n",
            " 78%|███████▊  | 135/172 [00:16<00:05,  7.06it/s]\u001b[A\n",
            " 79%|███████▉  | 136/172 [00:16<00:05,  6.93it/s]\u001b[A\n",
            " 80%|███████▉  | 137/172 [00:16<00:05,  6.81it/s]\u001b[A\n",
            " 80%|████████  | 138/172 [00:16<00:04,  6.83it/s]\u001b[A\n",
            " 81%|████████  | 139/172 [00:16<00:04,  6.81it/s]\u001b[A\n",
            " 81%|████████▏ | 140/172 [00:16<00:04,  6.79it/s]\u001b[A\n",
            " 82%|████████▏ | 141/172 [00:16<00:04,  6.90it/s]\u001b[A\n",
            " 83%|████████▎ | 142/172 [00:17<00:04,  6.93it/s]\u001b[A\n",
            " 83%|████████▎ | 143/172 [00:17<00:04,  7.07it/s]\u001b[A\n",
            " 84%|████████▎ | 144/172 [00:17<00:03,  7.22it/s]\u001b[A\n",
            " 84%|████████▍ | 145/172 [00:17<00:03,  7.27it/s]\u001b[A\n",
            " 85%|████████▍ | 146/172 [00:17<00:03,  7.23it/s]\u001b[A\n",
            " 85%|████████▌ | 147/172 [00:17<00:03,  7.23it/s]\u001b[A\n",
            " 86%|████████▌ | 148/172 [00:17<00:03,  7.31it/s]\u001b[A\n",
            " 87%|████████▋ | 149/172 [00:18<00:03,  7.31it/s]\u001b[A\n",
            " 87%|████████▋ | 150/172 [00:18<00:02,  7.43it/s]\u001b[A\n",
            " 88%|████████▊ | 151/172 [00:18<00:02,  7.91it/s]\u001b[A\n",
            " 88%|████████▊ | 152/172 [00:18<00:02,  8.22it/s]\u001b[A\n",
            " 89%|████████▉ | 153/172 [00:18<00:02,  8.64it/s]\u001b[A\n",
            " 90%|████████▉ | 154/172 [00:18<00:02,  8.87it/s]\u001b[A\n",
            " 90%|█████████ | 155/172 [00:18<00:01,  8.86it/s]\u001b[A\n",
            " 91%|█████████ | 156/172 [00:18<00:01,  8.85it/s]\u001b[A\n",
            " 91%|█████████▏| 157/172 [00:18<00:01,  8.87it/s]\u001b[A\n",
            " 92%|█████████▏| 158/172 [00:19<00:01,  9.05it/s]\u001b[A\n",
            " 92%|█████████▏| 159/172 [00:19<00:01,  9.25it/s]\u001b[A\n",
            " 93%|█████████▎| 160/172 [00:19<00:01,  9.22it/s]\u001b[A\n",
            " 94%|█████████▎| 161/172 [00:19<00:01,  9.17it/s]\u001b[A\n",
            " 94%|█████████▍| 162/172 [00:19<00:01,  9.26it/s]\u001b[A\n",
            " 95%|█████████▌| 164/172 [00:19<00:00,  9.63it/s]\u001b[A\n",
            " 96%|█████████▌| 165/172 [00:19<00:00,  9.62it/s]\u001b[A\n",
            " 97%|█████████▋| 166/172 [00:19<00:00,  9.61it/s]\u001b[A\n",
            " 97%|█████████▋| 167/172 [00:20<00:00,  9.58it/s]\u001b[A\n",
            " 98%|█████████▊| 168/172 [00:20<00:00,  9.50it/s]\u001b[A\n",
            " 98%|█████████▊| 169/172 [00:20<00:00,  9.53it/s]\u001b[A\n",
            " 99%|█████████▉| 170/172 [00:20<00:00,  9.46it/s]\u001b[A\n",
            "100%|██████████| 172/172 [00:20<00:00,  8.38it/s]\n",
            "\n",
            "  0%|          | 0/172 [00:00<?, ?it/s]\u001b[A\n",
            "100%|██████████| 172/172 [00:00<00:00, 1105.85it/s]\n"
          ]
        }
      ],
      "source": [
        "fps=30\n",
        "step=6\n",
        "#fps=int(extract_frames(video_path))\n",
        "flowVideo(\n",
        "    path=temp_extracted_frames,\n",
        "    model=model,\n",
        "    device=device,\n",
        "    step=step)\n",
        "saveVideo(temp_processed_flow_frames,\"pippo\", fps=fps)"
      ]
    },
    {
      "cell_type": "code",
      "execution_count": 13,
      "id": "5c6367ca-dda8-42cb-aed5-8bc8a5120e9f",
      "metadata": {
        "id": "5c6367ca-dda8-42cb-aed5-8bc8a5120e9f",
        "colab": {
          "base_uri": "https://localhost:8080/"
        },
        "outputId": "31b6b0e5-cfec-4d19-9739-ea8848bba03f"
      },
      "outputs": [
        {
          "output_type": "stream",
          "name": "stderr",
          "text": [
            "\n",
            "  0%|          | 0/172 [00:00<?, ?it/s]\u001b[A\n",
            " 17%|█▋        | 30/172 [00:00<00:00, 294.05it/s]\u001b[A\n",
            " 35%|███▍      | 60/172 [00:00<00:00, 260.24it/s]\u001b[A\n",
            " 60%|██████    | 104/172 [00:00<00:00, 335.55it/s]\u001b[A\n",
            "100%|██████████| 172/172 [00:00<00:00, 356.24it/s]\n"
          ]
        }
      ],
      "source": [
        "# 3B- Find miving cordinates of center of gravity of our athlet\n",
        "x,y=find_center_of_gravity(temp_processed_flow_frames)  \n",
        "#saveVideo(comp,\"PullUp_mass\",bw=True)"
      ]
    },
    {
      "cell_type": "markdown",
      "id": "6472254d-b7d5-4a78-bc1e-c75b6ad92e87",
      "metadata": {
        "id": "6472254d-b7d5-4a78-bc1e-c75b6ad92e87"
      },
      "source": [
        "## SIGNAL ANALISYS"
      ]
    },
    {
      "cell_type": "code",
      "execution_count": 14,
      "id": "a607520d-2806-47fc-bb62-237c39a1842e",
      "metadata": {
        "id": "a607520d-2806-47fc-bb62-237c39a1842e",
        "colab": {
          "base_uri": "https://localhost:8080/",
          "height": 265
        },
        "outputId": "3a3e5093-029f-4a41-c705-8dd708cf70ef"
      },
      "outputs": [
        {
          "output_type": "display_data",
          "data": {
            "text/plain": [
              "<Figure size 432x288 with 1 Axes>"
            ],
            "image/png": "[encoded data removed]"
          },
          "metadata": {
            "needs_background": "light"
          }
        }
      ],
      "source": [
        "fig, ax = plt.subplots()\n",
        "ax.plot(y)\n",
        "plt.show()"
      ]
    },
    {
      "cell_type": "code",
      "execution_count": 15,
      "id": "915e20cf-e4c3-459b-9a5e-fba88920d9b0",
      "metadata": {
        "id": "915e20cf-e4c3-459b-9a5e-fba88920d9b0",
        "colab": {
          "base_uri": "https://localhost:8080/",
          "height": 265
        },
        "outputId": "6d7f850a-f542-4116-a3d8-32cda6eabe6b"
      },
      "outputs": [
        {
          "output_type": "display_data",
          "data": {
            "text/plain": [
              "<Figure size 432x288 with 1 Axes>"
            ],
            "image/png": "[encoded data removed]"
          },
          "metadata": {
            "needs_background": "light"
          }
        }
      ],
      "source": [
        "# 2- mobile average\n",
        "#K=[0.25,0.25,0.25,0.25]\n",
        "\n",
        "\n",
        "#avg=np.convolve(K,y)\n",
        "avg= movingAverage(y,k=int(fps/step))\n",
        "normalized= normalizeZeroMean(avg)\n",
        "fig, ax = plt.subplots()\n",
        "ax.plot(avg)\n",
        "plt.show()"
      ]
    },
    {
      "cell_type": "code",
      "execution_count": 16,
      "id": "6fd4fe39-3cbf-4c3c-a8fc-749302e28c24",
      "metadata": {
        "id": "6fd4fe39-3cbf-4c3c-a8fc-749302e28c24",
        "colab": {
          "base_uri": "https://localhost:8080/",
          "height": 476
        },
        "outputId": "2b8c1300-b830-4c1a-b45f-ee6335a13782"
      },
      "outputs": [
        {
          "output_type": "display_data",
          "data": {
            "text/plain": [
              "<Figure size 1080x720 with 1 Axes>"
            ],
            "image/png": "[encoded data removed]"
          },
          "metadata": {
            "needs_background": "light"
          }
        }
      ],
      "source": [
        "# 3- find peacks positive\n",
        "peaks= findKeyPoints(normalized, distance=int(fps/step))\n",
        "\n",
        "\n",
        "np.diff(peaks)\n",
        "plt.figure(figsize=(15,10))\n",
        "plt.plot(normalized)\n",
        "plt.plot(peaks, normalized[peaks], \"x\")\n",
        "plt.show()\n",
        "\n"
      ]
    },
    {
      "cell_type": "code",
      "execution_count": 17,
      "id": "c1492199-30ab-4c4f-a967-fc071c9c4732",
      "metadata": {
        "id": "c1492199-30ab-4c4f-a967-fc071c9c4732",
        "colab": {
          "base_uri": "https://localhost:8080/"
        },
        "outputId": "9ddfbacb-1b23-4e12-c01a-d4ee7f465ecc"
      },
      "outputs": [
        {
          "output_type": "stream",
          "name": "stdout",
          "text": [
            "[36, 120, 224, 328, 436, 544, 612]\n"
          ]
        },
        {
          "output_type": "stream",
          "name": "stderr",
          "text": [
            "\n",
            "  0%|          | 0/1033 [00:00<?, ?it/s]\u001b[A\n",
            "  0%|          | 3/1033 [00:00<00:47, 21.63it/s]\u001b[A\n",
            "  1%|          | 6/1033 [00:00<00:49, 20.68it/s]\u001b[A\n",
            "  1%|          | 9/1033 [00:00<00:51, 19.72it/s]\u001b[A\n",
            "  1%|          | 12/1033 [00:00<00:45, 22.50it/s]\u001b[A\n",
            "  1%|▏         | 15/1033 [00:00<00:42, 23.71it/s]\u001b[A\n",
            "  2%|▏         | 18/1033 [00:00<00:41, 24.52it/s]\u001b[A\n",
            "  2%|▏         | 21/1033 [00:00<00:41, 24.56it/s]\u001b[A\n",
            "  2%|▏         | 25/1033 [00:01<00:38, 26.10it/s]\u001b[A\n",
            "  3%|▎         | 28/1033 [00:01<00:44, 22.43it/s]\u001b[A\n",
            "  3%|▎         | 31/1033 [00:01<00:46, 21.33it/s]\u001b[A\n",
            "  3%|▎         | 34/1033 [00:01<00:56, 17.62it/s]\u001b[A\n",
            "  3%|▎         | 36/1033 [00:01<01:04, 15.39it/s]\u001b[A\n",
            "  4%|▎         | 38/1033 [00:02<01:22, 12.03it/s]\u001b[A\n",
            "  4%|▍         | 40/1033 [00:02<01:40,  9.89it/s]\u001b[A\n",
            "  4%|▍         | 42/1033 [00:02<02:02,  8.10it/s]\u001b[A\n",
            "  4%|▍         | 43/1033 [00:02<01:58,  8.33it/s]\u001b[A\n",
            "  4%|▍         | 45/1033 [00:03<01:49,  9.03it/s]\u001b[A\n",
            "  5%|▍         | 47/1033 [00:03<01:45,  9.33it/s]\u001b[A\n",
            "  5%|▍         | 49/1033 [00:03<01:47,  9.20it/s]\u001b[A\n",
            "  5%|▍         | 51/1033 [00:03<01:36, 10.19it/s]\u001b[A\n",
            "  5%|▌         | 53/1033 [00:03<01:48,  9.04it/s]\u001b[A\n",
            "  5%|▌         | 55/1033 [00:04<01:32, 10.63it/s]\u001b[A\n",
            "  6%|▌         | 57/1033 [00:04<01:30, 10.74it/s]\u001b[A\n",
            "  6%|▌         | 59/1033 [00:04<01:21, 11.88it/s]\u001b[A\n",
            "  6%|▌         | 61/1033 [00:04<01:24, 11.57it/s]\u001b[A\n",
            "  6%|▌         | 63/1033 [00:04<01:25, 11.29it/s]\u001b[A\n",
            "  6%|▋         | 65/1033 [00:04<01:21, 11.92it/s]\u001b[A\n",
            "  6%|▋         | 67/1033 [00:04<01:11, 13.56it/s]\u001b[A\n",
            "  7%|▋         | 69/1033 [00:05<01:19, 12.06it/s]\u001b[A\n",
            "  7%|▋         | 71/1033 [00:05<01:14, 12.84it/s]\u001b[A\n",
            "  7%|▋         | 73/1033 [00:05<01:41,  9.48it/s]\u001b[A\n",
            "  7%|▋         | 75/1033 [00:05<01:35,  9.98it/s]\u001b[A\n",
            "  7%|▋         | 77/1033 [00:05<01:33, 10.19it/s]\u001b[A\n",
            "  8%|▊         | 79/1033 [00:06<01:19, 11.93it/s]\u001b[A\n",
            "  8%|▊         | 81/1033 [00:06<01:15, 12.62it/s]\u001b[A\n",
            "  8%|▊         | 84/1033 [00:06<01:03, 14.99it/s]\u001b[A\n",
            "  8%|▊         | 86/1033 [00:06<01:01, 15.29it/s]\u001b[A\n",
            "  9%|▊         | 89/1033 [00:06<00:59, 15.81it/s]\u001b[A\n",
            "  9%|▉         | 91/1033 [00:06<00:56, 16.54it/s]\u001b[A\n",
            "  9%|▉         | 93/1033 [00:06<01:00, 15.58it/s]\u001b[A\n",
            "  9%|▉         | 96/1033 [00:07<00:54, 17.30it/s]\u001b[A\n",
            "  9%|▉         | 98/1033 [00:07<01:11, 13.05it/s]\u001b[A\n",
            " 10%|▉         | 100/1033 [00:07<01:07, 13.78it/s]\u001b[A\n",
            " 10%|▉         | 102/1033 [00:07<01:13, 12.73it/s]\u001b[A\n",
            " 10%|█         | 104/1033 [00:07<01:05, 14.19it/s]\u001b[A\n",
            " 10%|█         | 106/1033 [00:07<01:07, 13.78it/s]\u001b[A\n",
            " 10%|█         | 108/1033 [00:08<01:04, 14.40it/s]\u001b[A\n",
            " 11%|█         | 110/1033 [00:08<01:12, 12.70it/s]\u001b[A\n",
            " 11%|█         | 112/1033 [00:08<01:23, 11.09it/s]\u001b[A\n",
            " 11%|█         | 114/1033 [00:08<01:27, 10.52it/s]\u001b[A\n",
            " 11%|█         | 116/1033 [00:08<01:27, 10.50it/s]\u001b[A\n",
            " 11%|█▏        | 118/1033 [00:09<01:36,  9.52it/s]\u001b[A\n",
            " 12%|█▏        | 120/1033 [00:09<01:42,  8.90it/s]\u001b[A\n",
            " 12%|█▏        | 121/1033 [00:09<01:41,  8.97it/s]\u001b[A\n",
            " 12%|█▏        | 122/1033 [00:09<01:46,  8.59it/s]\u001b[A\n",
            " 12%|█▏        | 123/1033 [00:09<01:48,  8.39it/s]\u001b[A\n",
            " 12%|█▏        | 124/1033 [00:09<01:51,  8.17it/s]\u001b[A\n",
            " 12%|█▏        | 125/1033 [00:09<01:51,  8.11it/s]\u001b[A\n",
            " 12%|█▏        | 127/1033 [00:10<01:35,  9.49it/s]\u001b[A\n",
            " 12%|█▏        | 128/1033 [00:10<01:36,  9.42it/s]\u001b[A\n",
            " 13%|█▎        | 130/1033 [00:10<01:33,  9.68it/s]\u001b[A\n",
            " 13%|█▎        | 131/1033 [00:10<02:19,  6.45it/s]\u001b[A\n",
            " 13%|█▎        | 132/1033 [00:10<02:22,  6.31it/s]\u001b[A\n",
            " 13%|█▎        | 133/1033 [00:11<02:38,  5.67it/s]\u001b[A\n",
            " 13%|█▎        | 134/1033 [00:11<02:22,  6.32it/s]\u001b[A\n",
            " 13%|█▎        | 135/1033 [00:11<02:08,  7.00it/s]\u001b[A\n",
            " 13%|█▎        | 136/1033 [00:11<02:06,  7.07it/s]\u001b[A\n",
            " 13%|█▎        | 137/1033 [00:11<02:28,  6.02it/s]\u001b[A\n",
            " 13%|█▎        | 139/1033 [00:11<01:55,  7.75it/s]\u001b[A\n",
            " 14%|█▎        | 141/1033 [00:12<01:45,  8.49it/s]\u001b[A\n",
            " 14%|█▎        | 142/1033 [00:12<01:45,  8.42it/s]\u001b[A\n",
            " 14%|█▍        | 143/1033 [00:12<02:06,  7.05it/s]\u001b[A\n",
            " 14%|█▍        | 144/1033 [00:12<02:04,  7.16it/s]\u001b[A\n",
            " 14%|█▍        | 145/1033 [00:12<02:06,  7.01it/s]\u001b[A\n",
            " 14%|█▍        | 146/1033 [00:12<02:00,  7.35it/s]\u001b[A\n",
            " 14%|█▍        | 147/1033 [00:13<01:58,  7.47it/s]\u001b[A\n",
            " 14%|█▍        | 149/1033 [00:13<01:44,  8.48it/s]\u001b[A\n",
            " 15%|█▍        | 151/1033 [00:13<01:27, 10.08it/s]\u001b[A\n",
            " 15%|█▍        | 153/1033 [00:13<01:46,  8.26it/s]\u001b[A\n",
            " 15%|█▍        | 154/1033 [00:13<01:44,  8.40it/s]\u001b[A\n",
            " 15%|█▌        | 156/1033 [00:13<01:22, 10.65it/s]\u001b[A\n",
            " 15%|█▌        | 158/1033 [00:14<01:13, 11.88it/s]\u001b[A\n",
            " 15%|█▌        | 160/1033 [00:14<01:04, 13.63it/s]\u001b[A\n",
            " 16%|█▌        | 162/1033 [00:14<01:03, 13.75it/s]\u001b[A\n",
            " 16%|█▌        | 165/1033 [00:14<00:56, 15.46it/s]\u001b[A\n",
            " 16%|█▋        | 168/1033 [00:14<00:49, 17.48it/s]\u001b[A\n",
            " 16%|█▋        | 170/1033 [00:14<00:52, 16.51it/s]\u001b[A\n",
            " 17%|█▋        | 172/1033 [00:14<00:50, 17.13it/s]\u001b[A\n",
            " 17%|█▋        | 174/1033 [00:14<00:52, 16.27it/s]\u001b[A\n",
            " 17%|█▋        | 177/1033 [00:15<00:51, 16.59it/s]\u001b[A\n",
            " 17%|█▋        | 180/1033 [00:15<00:46, 18.29it/s]\u001b[A\n",
            " 18%|█▊        | 182/1033 [00:15<00:50, 16.91it/s]\u001b[A\n",
            " 18%|█▊        | 185/1033 [00:15<00:50, 16.66it/s]\u001b[A\n",
            " 18%|█▊        | 187/1033 [00:15<00:48, 17.35it/s]\u001b[A\n",
            " 18%|█▊        | 189/1033 [00:15<00:51, 16.25it/s]\u001b[A\n",
            " 19%|█▊        | 192/1033 [00:15<00:46, 17.96it/s]\u001b[A\n",
            " 19%|█▉        | 194/1033 [00:16<00:48, 17.19it/s]\u001b[A\n",
            " 19%|█▉        | 197/1033 [00:16<00:48, 17.08it/s]\u001b[A\n",
            " 19%|█▉        | 200/1033 [00:16<00:44, 18.74it/s]\u001b[A\n",
            " 20%|█▉        | 202/1033 [00:16<00:46, 17.88it/s]\u001b[A\n",
            " 20%|█▉        | 205/1033 [00:16<00:46, 17.91it/s]\u001b[A\n",
            " 20%|██        | 207/1033 [00:16<00:45, 18.22it/s]\u001b[A\n",
            " 20%|██        | 209/1033 [00:16<00:48, 17.02it/s]\u001b[A\n",
            " 21%|██        | 212/1033 [00:17<00:43, 18.72it/s]\u001b[A\n",
            " 21%|██        | 214/1033 [00:17<00:48, 16.94it/s]\u001b[A\n",
            " 21%|██        | 216/1033 [00:17<00:46, 17.46it/s]\u001b[A\n",
            " 21%|██        | 218/1033 [00:17<00:45, 17.80it/s]\u001b[A\n",
            " 21%|██▏       | 220/1033 [00:17<00:47, 17.12it/s]\u001b[A\n",
            " 21%|██▏       | 222/1033 [00:17<00:49, 16.35it/s]\u001b[A\n",
            " 22%|██▏       | 224/1033 [00:17<00:51, 15.57it/s]\u001b[A\n",
            " 22%|██▏       | 226/1033 [00:17<00:55, 14.43it/s]\u001b[A\n",
            " 22%|██▏       | 228/1033 [00:18<00:55, 14.49it/s]\u001b[A\n",
            " 22%|██▏       | 230/1033 [00:18<00:54, 14.70it/s]\u001b[A\n",
            " 22%|██▏       | 232/1033 [00:18<00:51, 15.64it/s]\u001b[A\n",
            " 23%|██▎       | 234/1033 [00:18<00:48, 16.38it/s]\u001b[A\n",
            " 23%|██▎       | 236/1033 [00:18<00:47, 16.75it/s]\u001b[A\n",
            " 23%|██▎       | 239/1033 [00:18<00:40, 19.84it/s]\u001b[A\n",
            " 23%|██▎       | 242/1033 [00:18<00:35, 22.03it/s]\u001b[A\n",
            " 24%|██▎       | 245/1033 [00:18<00:33, 23.57it/s]\u001b[A\n",
            " 24%|██▍       | 249/1033 [00:19<00:31, 24.65it/s]\u001b[A\n",
            " 24%|██▍       | 253/1033 [00:19<00:29, 26.03it/s]\u001b[A\n",
            " 25%|██▍       | 257/1033 [00:19<00:28, 27.21it/s]\u001b[A\n",
            " 25%|██▌       | 261/1033 [00:19<00:27, 27.98it/s]\u001b[A\n",
            " 26%|██▌       | 265/1033 [00:19<00:27, 28.33it/s]\u001b[A\n",
            " 26%|██▌       | 269/1033 [00:19<00:26, 28.31it/s]\u001b[A\n",
            " 26%|██▋       | 273/1033 [00:19<00:26, 28.25it/s]\u001b[A\n",
            " 27%|██▋       | 277/1033 [00:20<00:27, 27.92it/s]\u001b[A\n",
            " 27%|██▋       | 281/1033 [00:20<00:26, 28.03it/s]\u001b[A\n",
            " 28%|██▊       | 285/1033 [00:20<00:26, 28.23it/s]\u001b[A\n",
            " 28%|██▊       | 289/1033 [00:20<00:26, 28.15it/s]\u001b[A\n",
            " 28%|██▊       | 293/1033 [00:20<00:25, 29.16it/s]\u001b[A\n",
            " 29%|██▉       | 297/1033 [00:20<00:25, 28.71it/s]\u001b[A\n",
            " 29%|██▉       | 301/1033 [00:20<00:25, 28.78it/s]\u001b[A\n",
            " 30%|██▉       | 305/1033 [00:21<00:26, 27.89it/s]\u001b[A\n",
            " 30%|██▉       | 309/1033 [00:21<00:25, 28.27it/s]\u001b[A\n",
            " 30%|███       | 313/1033 [00:21<00:25, 28.51it/s]\u001b[A\n",
            " 31%|███       | 317/1033 [00:21<00:24, 28.66it/s]\u001b[A\n",
            " 31%|███       | 320/1033 [00:21<00:28, 25.27it/s]\u001b[A\n",
            " 31%|███▏      | 323/1033 [00:21<00:30, 23.40it/s]\u001b[A\n",
            " 32%|███▏      | 326/1033 [00:21<00:36, 19.22it/s]\u001b[A\n",
            " 32%|███▏      | 329/1033 [00:22<00:40, 17.21it/s]\u001b[A\n",
            " 32%|███▏      | 331/1033 [00:22<00:42, 16.38it/s]\u001b[A\n",
            " 32%|███▏      | 333/1033 [00:22<00:44, 15.63it/s]\u001b[A\n",
            " 32%|███▏      | 335/1033 [00:22<00:42, 16.35it/s]\u001b[A\n",
            " 33%|███▎      | 337/1033 [00:22<00:42, 16.42it/s]\u001b[A\n",
            " 33%|███▎      | 339/1033 [00:22<00:43, 16.01it/s]\u001b[A\n",
            " 33%|███▎      | 341/1033 [00:22<00:42, 16.45it/s]\u001b[A\n",
            " 33%|███▎      | 345/1033 [00:23<00:34, 19.90it/s]\u001b[A\n",
            " 34%|███▍      | 349/1033 [00:23<00:30, 22.24it/s]\u001b[A\n",
            " 34%|███▍      | 353/1033 [00:23<00:27, 24.39it/s]\u001b[A\n",
            " 35%|███▍      | 357/1033 [00:23<00:26, 25.62it/s]\u001b[A\n",
            " 35%|███▍      | 361/1033 [00:23<00:25, 26.28it/s]\u001b[A\n",
            " 35%|███▌      | 365/1033 [00:23<00:24, 26.94it/s]\u001b[A\n",
            " 36%|███▌      | 369/1033 [00:23<00:24, 27.15it/s]\u001b[A\n",
            " 36%|███▌      | 373/1033 [00:24<00:23, 27.80it/s]\u001b[A\n",
            " 36%|███▋      | 377/1033 [00:24<00:23, 28.04it/s]\u001b[A\n",
            " 37%|███▋      | 381/1033 [00:24<00:22, 28.38it/s]\u001b[A\n",
            " 37%|███▋      | 385/1033 [00:24<00:22, 28.56it/s]\u001b[A\n",
            " 38%|███▊      | 389/1033 [00:24<00:22, 28.36it/s]\u001b[A\n",
            " 38%|███▊      | 393/1033 [00:24<00:22, 28.09it/s]\u001b[A\n",
            " 38%|███▊      | 397/1033 [00:24<00:22, 28.22it/s]\u001b[A\n",
            " 39%|███▉      | 401/1033 [00:25<00:22, 27.60it/s]\u001b[A\n",
            " 39%|███▉      | 405/1033 [00:25<00:22, 27.96it/s]\u001b[A\n",
            " 40%|███▉      | 409/1033 [00:25<00:22, 28.16it/s]\u001b[A\n",
            " 40%|███▉      | 413/1033 [00:25<00:22, 27.88it/s]\u001b[A\n",
            " 40%|████      | 417/1033 [00:25<00:22, 27.90it/s]\u001b[A\n",
            " 41%|████      | 421/1033 [00:25<00:21, 28.53it/s]\u001b[A\n",
            " 41%|████      | 425/1033 [00:25<00:21, 28.67it/s]\u001b[A\n",
            " 41%|████▏     | 428/1033 [00:26<00:24, 25.03it/s]\u001b[A\n",
            " 42%|████▏     | 431/1033 [00:26<00:26, 22.50it/s]\u001b[A\n",
            " 42%|████▏     | 434/1033 [00:26<00:31, 18.93it/s]\u001b[A\n",
            " 42%|████▏     | 437/1033 [00:26<00:35, 16.78it/s]\u001b[A\n",
            " 42%|████▏     | 439/1033 [00:26<00:37, 15.87it/s]\u001b[A\n",
            " 43%|████▎     | 441/1033 [00:27<00:39, 15.05it/s]\u001b[A\n",
            " 43%|████▎     | 443/1033 [00:27<00:37, 15.62it/s]\u001b[A\n",
            " 43%|████▎     | 445/1033 [00:27<00:42, 13.98it/s]\u001b[A\n",
            " 43%|████▎     | 447/1033 [00:27<00:43, 13.39it/s]\u001b[A\n",
            " 43%|████▎     | 449/1033 [00:27<00:45, 12.86it/s]\u001b[A\n",
            " 44%|████▎     | 451/1033 [00:27<00:40, 14.31it/s]\u001b[A\n",
            " 44%|████▍     | 453/1033 [00:27<00:38, 14.97it/s]\u001b[A\n",
            " 44%|████▍     | 456/1033 [00:28<00:33, 17.08it/s]\u001b[A\n",
            " 44%|████▍     | 458/1033 [00:28<00:35, 16.15it/s]\u001b[A\n",
            " 45%|████▍     | 461/1033 [00:28<00:35, 16.21it/s]\u001b[A\n",
            " 45%|████▍     | 464/1033 [00:28<00:31, 17.79it/s]\u001b[A\n",
            " 45%|████▌     | 466/1033 [00:28<00:33, 16.82it/s]\u001b[A\n",
            " 45%|████▌     | 469/1033 [00:28<00:33, 16.73it/s]\u001b[A\n",
            " 46%|████▌     | 472/1033 [00:28<00:30, 18.38it/s]\u001b[A\n",
            " 46%|████▌     | 474/1033 [00:29<00:32, 17.27it/s]\u001b[A\n",
            " 46%|████▌     | 477/1033 [00:29<00:33, 16.58it/s]\u001b[A\n",
            " 46%|████▋     | 480/1033 [00:29<00:30, 17.94it/s]\u001b[A\n",
            " 47%|████▋     | 482/1033 [00:29<00:32, 16.74it/s]\u001b[A\n",
            " 47%|████▋     | 484/1033 [00:29<00:31, 17.27it/s]\u001b[A\n",
            " 47%|████▋     | 486/1033 [00:29<00:33, 16.38it/s]\u001b[A\n",
            " 47%|████▋     | 489/1033 [00:30<00:32, 16.57it/s]\u001b[A\n",
            " 48%|████▊     | 492/1033 [00:30<00:29, 18.07it/s]\u001b[A\n",
            " 48%|████▊     | 494/1033 [00:30<00:32, 16.71it/s]\u001b[A\n",
            " 48%|████▊     | 497/1033 [00:30<00:32, 16.57it/s]\u001b[A\n",
            " 48%|████▊     | 500/1033 [00:30<00:29, 17.90it/s]\u001b[A\n",
            " 49%|████▊     | 502/1033 [00:30<00:30, 17.51it/s]\u001b[A\n",
            " 49%|████▉     | 505/1033 [00:30<00:30, 17.35it/s]\u001b[A\n",
            " 49%|████▉     | 508/1033 [00:31<00:28, 18.49it/s]\u001b[A\n",
            " 49%|████▉     | 510/1033 [00:31<00:30, 17.12it/s]\u001b[A\n",
            " 50%|████▉     | 513/1033 [00:31<00:30, 17.12it/s]\u001b[A\n",
            " 50%|████▉     | 516/1033 [00:31<00:28, 18.36it/s]\u001b[A\n",
            " 50%|█████     | 518/1033 [00:31<00:30, 16.76it/s]\u001b[A\n",
            " 50%|█████     | 521/1033 [00:31<00:31, 16.38it/s]\u001b[A\n",
            " 51%|█████     | 523/1033 [00:31<00:29, 17.11it/s]\u001b[A\n",
            " 51%|█████     | 525/1033 [00:32<00:31, 15.96it/s]\u001b[A\n",
            " 51%|█████     | 527/1033 [00:32<00:30, 16.73it/s]\u001b[A\n",
            " 51%|█████     | 529/1033 [00:32<00:31, 16.19it/s]\u001b[A\n",
            " 52%|█████▏    | 532/1033 [00:32<00:27, 18.30it/s]\u001b[A\n",
            " 52%|█████▏    | 534/1033 [00:32<00:31, 15.82it/s]\u001b[A\n",
            " 52%|█████▏    | 536/1033 [00:32<00:33, 14.72it/s]\u001b[A\n",
            " 52%|█████▏    | 538/1033 [00:32<00:34, 14.19it/s]\u001b[A\n",
            " 52%|█████▏    | 540/1033 [00:33<00:41, 11.78it/s]\u001b[A\n",
            " 52%|█████▏    | 542/1033 [00:33<00:42, 11.64it/s]\u001b[A\n",
            " 53%|█████▎    | 544/1033 [00:33<00:39, 12.23it/s]\u001b[A\n",
            " 53%|█████▎    | 546/1033 [00:33<00:39, 12.45it/s]\u001b[A\n",
            " 53%|█████▎    | 548/1033 [00:33<00:38, 12.74it/s]\u001b[A\n",
            " 53%|█████▎    | 550/1033 [00:33<00:35, 13.48it/s]\u001b[A\n",
            " 53%|█████▎    | 552/1033 [00:34<00:32, 14.83it/s]\u001b[A\n",
            " 54%|█████▎    | 554/1033 [00:34<00:30, 15.61it/s]\u001b[A\n",
            " 54%|█████▍    | 556/1033 [00:34<00:29, 15.98it/s]\u001b[A\n",
            " 54%|█████▍    | 559/1033 [00:34<00:24, 19.09it/s]\u001b[A\n",
            " 54%|█████▍    | 562/1033 [00:34<00:22, 20.73it/s]\u001b[A\n",
            " 55%|█████▍    | 565/1033 [00:34<00:21, 22.25it/s]\u001b[A\n",
            " 55%|█████▌    | 569/1033 [00:34<00:18, 24.48it/s]\u001b[A\n",
            " 55%|█████▌    | 573/1033 [00:34<00:18, 25.41it/s]\u001b[A\n",
            " 56%|█████▌    | 577/1033 [00:35<00:17, 26.41it/s]\u001b[A\n",
            " 56%|█████▌    | 581/1033 [00:35<00:16, 27.57it/s]\u001b[A\n",
            " 57%|█████▋    | 585/1033 [00:35<00:16, 27.73it/s]\u001b[A\n",
            " 57%|█████▋    | 589/1033 [00:35<00:16, 27.38it/s]\u001b[A\n",
            " 57%|█████▋    | 593/1033 [00:35<00:15, 27.75it/s]\u001b[A\n",
            " 58%|█████▊    | 597/1033 [00:35<00:15, 27.30it/s]\u001b[A\n",
            " 58%|█████▊    | 601/1033 [00:35<00:15, 27.61it/s]\u001b[A\n",
            " 58%|█████▊    | 604/1033 [00:36<00:17, 24.08it/s]\u001b[A\n",
            " 59%|█████▉    | 607/1033 [00:36<00:19, 22.39it/s]\u001b[A\n",
            " 59%|█████▉    | 610/1033 [00:36<00:22, 18.67it/s]\u001b[A\n",
            " 59%|█████▉    | 612/1033 [00:36<00:25, 16.81it/s]\u001b[A\n",
            " 59%|█████▉    | 614/1033 [00:36<00:26, 15.84it/s]\u001b[A\n",
            " 60%|█████▉    | 616/1033 [00:36<00:27, 15.11it/s]\u001b[A\n",
            " 60%|█████▉    | 618/1033 [00:37<00:26, 15.39it/s]\u001b[A\n",
            " 60%|██████    | 620/1033 [00:37<00:25, 15.97it/s]\u001b[A\n",
            " 60%|██████    | 622/1033 [00:37<00:24, 16.68it/s]\u001b[A\n",
            " 60%|██████    | 624/1033 [00:37<00:24, 16.93it/s]\u001b[A\n",
            " 61%|██████    | 627/1033 [00:37<00:20, 19.46it/s]\u001b[A\n",
            " 61%|██████    | 630/1033 [00:37<00:18, 21.55it/s]\u001b[A\n",
            " 61%|██████▏   | 633/1033 [00:37<00:17, 22.92it/s]\u001b[A\n",
            " 62%|██████▏   | 637/1033 [00:37<00:16, 24.25it/s]\u001b[A\n",
            " 62%|██████▏   | 641/1033 [00:38<00:15, 25.57it/s]\u001b[A\n",
            " 62%|██████▏   | 645/1033 [00:38<00:14, 26.76it/s]\u001b[A\n",
            " 63%|██████▎   | 649/1033 [00:38<00:14, 26.90it/s]\u001b[A\n",
            " 63%|██████▎   | 653/1033 [00:38<00:14, 27.14it/s]\u001b[A\n",
            " 64%|██████▎   | 657/1033 [00:38<00:14, 26.78it/s]\u001b[A\n",
            " 64%|██████▍   | 661/1033 [00:38<00:13, 27.38it/s]\u001b[A\n",
            " 64%|██████▍   | 665/1033 [00:38<00:13, 27.73it/s]\u001b[A\n",
            " 65%|██████▍   | 669/1033 [00:39<00:12, 28.09it/s]\u001b[A\n",
            " 65%|██████▌   | 673/1033 [00:39<00:12, 27.96it/s]\u001b[A\n",
            " 66%|██████▌   | 677/1033 [00:39<00:12, 28.12it/s]\u001b[A\n",
            " 66%|██████▌   | 681/1033 [00:39<00:12, 28.40it/s]\u001b[A\n",
            " 66%|██████▋   | 685/1033 [00:39<00:12, 27.82it/s]\u001b[A\n",
            " 67%|██████▋   | 689/1033 [00:39<00:12, 27.62it/s]\u001b[A\n",
            " 67%|██████▋   | 693/1033 [00:39<00:12, 27.73it/s]\u001b[A\n",
            " 67%|██████▋   | 697/1033 [00:40<00:12, 27.50it/s]\u001b[A\n",
            " 68%|██████▊   | 701/1033 [00:40<00:11, 27.72it/s]\u001b[A\n",
            " 68%|██████▊   | 705/1033 [00:40<00:11, 27.59it/s]\u001b[A\n",
            " 69%|██████▊   | 709/1033 [00:40<00:11, 28.51it/s]\u001b[A\n",
            " 69%|██████▉   | 713/1033 [00:40<00:11, 28.35it/s]\u001b[A\n",
            " 69%|██████▉   | 716/1033 [00:40<00:11, 28.64it/s]\u001b[A\n",
            " 70%|██████▉   | 719/1033 [00:40<00:11, 28.23it/s]\u001b[A\n",
            " 70%|██████▉   | 722/1033 [00:40<00:11, 27.07it/s]\u001b[A\n",
            " 70%|███████   | 725/1033 [00:41<00:11, 27.11it/s]\u001b[A\n",
            " 71%|███████   | 729/1033 [00:41<00:11, 26.75it/s]\u001b[A\n",
            " 71%|███████   | 733/1033 [00:41<00:10, 27.67it/s]\u001b[A\n",
            " 71%|███████▏  | 737/1033 [00:41<00:10, 28.02it/s]\u001b[A\n",
            " 72%|███████▏  | 741/1033 [00:41<00:10, 28.02it/s]\u001b[A\n",
            " 72%|███████▏  | 745/1033 [00:41<00:10, 27.85it/s]\u001b[A\n",
            " 73%|███████▎  | 749/1033 [00:41<00:10, 28.29it/s]\u001b[A\n",
            " 73%|███████▎  | 753/1033 [00:42<00:09, 28.10it/s]\u001b[A\n",
            " 73%|███████▎  | 757/1033 [00:42<00:09, 28.55it/s]\u001b[A\n",
            " 74%|███████▎  | 760/1033 [00:42<00:09, 28.88it/s]\u001b[A\n",
            " 74%|███████▍  | 763/1033 [00:42<00:09, 28.33it/s]\u001b[A\n",
            " 74%|███████▍  | 766/1033 [00:42<00:09, 27.60it/s]\u001b[A\n",
            " 74%|███████▍  | 769/1033 [00:42<00:09, 26.92it/s]\u001b[A\n",
            " 75%|███████▍  | 773/1033 [00:42<00:09, 27.41it/s]\u001b[A\n",
            " 75%|███████▌  | 777/1033 [00:42<00:09, 27.21it/s]\u001b[A\n",
            " 76%|███████▌  | 781/1033 [00:43<00:09, 27.58it/s]\u001b[A\n",
            " 76%|███████▌  | 785/1033 [00:43<00:08, 27.74it/s]\u001b[A\n",
            " 76%|███████▋  | 788/1033 [00:43<00:09, 27.08it/s]\u001b[A\n",
            " 77%|███████▋  | 791/1033 [00:43<00:10, 23.22it/s]\u001b[A\n",
            " 77%|███████▋  | 794/1033 [00:43<00:11, 21.16it/s]\u001b[A\n",
            " 77%|███████▋  | 797/1033 [00:43<00:12, 19.59it/s]\u001b[A\n",
            " 77%|███████▋  | 800/1033 [00:43<00:11, 20.51it/s]\u001b[A\n",
            " 78%|███████▊  | 803/1033 [00:44<00:11, 19.18it/s]\u001b[A\n",
            " 78%|███████▊  | 805/1033 [00:44<00:12, 18.57it/s]\u001b[A\n",
            " 78%|███████▊  | 808/1033 [00:44<00:11, 19.78it/s]\u001b[A\n",
            " 79%|███████▊  | 811/1033 [00:44<00:11, 18.92it/s]\u001b[A\n",
            " 79%|███████▊  | 813/1033 [00:44<00:12, 17.76it/s]\u001b[A\n",
            " 79%|███████▉  | 815/1033 [00:44<00:12, 18.14it/s]\u001b[A\n",
            " 79%|███████▉  | 817/1033 [00:44<00:12, 17.19it/s]\u001b[A\n",
            " 79%|███████▉  | 820/1033 [00:45<00:11, 19.10it/s]\u001b[A\n",
            " 80%|███████▉  | 822/1033 [00:45<00:12, 17.34it/s]\u001b[A\n",
            " 80%|███████▉  | 824/1033 [00:45<00:11, 17.51it/s]\u001b[A\n",
            " 80%|███████▉  | 826/1033 [00:45<00:12, 16.33it/s]\u001b[A\n",
            " 80%|████████  | 829/1033 [00:45<00:12, 16.38it/s]\u001b[A\n",
            " 81%|████████  | 832/1033 [00:45<00:11, 17.76it/s]\u001b[A\n",
            " 81%|████████  | 834/1033 [00:45<00:12, 16.54it/s]\u001b[A\n",
            " 81%|████████  | 837/1033 [00:46<00:11, 16.56it/s]\u001b[A\n",
            " 81%|████████  | 839/1033 [00:46<00:11, 17.12it/s]\u001b[A\n",
            " 81%|████████▏ | 841/1033 [00:46<00:11, 16.25it/s]\u001b[A\n",
            " 82%|████████▏ | 844/1033 [00:46<00:10, 17.94it/s]\u001b[A\n",
            " 82%|████████▏ | 846/1033 [00:46<00:10, 17.01it/s]\u001b[A\n",
            " 82%|████████▏ | 848/1033 [00:46<00:10, 17.00it/s]\u001b[A\n",
            " 82%|████████▏ | 850/1033 [00:46<00:11, 15.83it/s]\u001b[A\n",
            " 83%|████████▎ | 853/1033 [00:47<00:10, 16.93it/s]\u001b[A\n",
            " 83%|████████▎ | 856/1033 [00:47<00:09, 18.36it/s]\u001b[A\n",
            " 83%|████████▎ | 858/1033 [00:47<00:10, 17.23it/s]\u001b[A\n",
            " 83%|████████▎ | 861/1033 [00:47<00:09, 17.22it/s]\u001b[A\n",
            " 84%|████████▎ | 864/1033 [00:47<00:09, 18.39it/s]\u001b[A\n",
            " 84%|████████▍ | 866/1033 [00:47<00:10, 16.65it/s]\u001b[A\n",
            " 84%|████████▍ | 869/1033 [00:48<00:09, 16.69it/s]\u001b[A\n",
            " 84%|████████▍ | 872/1033 [00:48<00:08, 18.26it/s]\u001b[A\n",
            " 85%|████████▍ | 874/1033 [00:48<00:09, 17.42it/s]\u001b[A\n",
            " 85%|████████▍ | 877/1033 [00:48<00:09, 17.24it/s]\u001b[A\n",
            " 85%|████████▌ | 880/1033 [00:48<00:08, 18.67it/s]\u001b[A\n",
            " 85%|████████▌ | 882/1033 [00:48<00:08, 17.60it/s]\u001b[A\n",
            " 86%|████████▌ | 885/1033 [00:48<00:08, 17.77it/s]\u001b[A\n",
            " 86%|████████▌ | 888/1033 [00:49<00:07, 19.50it/s]\u001b[A\n",
            " 86%|████████▌ | 890/1033 [00:49<00:07, 18.50it/s]\u001b[A\n",
            " 86%|████████▋ | 893/1033 [00:49<00:07, 18.16it/s]\u001b[A\n",
            " 87%|████████▋ | 896/1033 [00:49<00:06, 19.79it/s]\u001b[A\n",
            " 87%|████████▋ | 899/1033 [00:49<00:06, 21.37it/s]\u001b[A\n",
            " 87%|████████▋ | 902/1033 [00:49<00:05, 23.09it/s]\u001b[A\n",
            " 88%|████████▊ | 905/1033 [00:49<00:05, 23.88it/s]\u001b[A\n",
            " 88%|████████▊ | 909/1033 [00:49<00:04, 24.95it/s]\u001b[A\n",
            " 88%|████████▊ | 913/1033 [00:50<00:04, 26.01it/s]\u001b[A\n",
            " 89%|████████▉ | 917/1033 [00:50<00:04, 27.09it/s]\u001b[A\n",
            " 89%|████████▉ | 921/1033 [00:50<00:04, 27.14it/s]\u001b[A\n",
            " 90%|████████▉ | 925/1033 [00:50<00:03, 27.04it/s]\u001b[A\n",
            " 90%|████████▉ | 929/1033 [00:50<00:03, 27.45it/s]\u001b[A\n",
            " 90%|█████████ | 933/1033 [00:50<00:03, 27.71it/s]\u001b[A\n",
            " 91%|█████████ | 937/1033 [00:50<00:03, 27.52it/s]\u001b[A\n",
            " 91%|█████████ | 941/1033 [00:51<00:03, 28.01it/s]\u001b[A\n",
            " 91%|█████████▏| 945/1033 [00:51<00:03, 27.89it/s]\u001b[A\n",
            " 92%|█████████▏| 949/1033 [00:51<00:02, 28.75it/s]\u001b[A\n",
            " 92%|█████████▏| 953/1033 [00:51<00:02, 29.02it/s]\u001b[A\n",
            " 93%|█████████▎| 957/1033 [00:51<00:02, 28.80it/s]\u001b[A\n",
            " 93%|█████████▎| 961/1033 [00:51<00:02, 28.87it/s]\u001b[A\n",
            " 93%|█████████▎| 965/1033 [00:51<00:02, 28.41it/s]\u001b[A\n",
            " 94%|█████████▍| 969/1033 [00:52<00:02, 28.35it/s]\u001b[A\n",
            " 94%|█████████▍| 973/1033 [00:52<00:02, 28.46it/s]\u001b[A\n",
            " 95%|█████████▍| 977/1033 [00:52<00:01, 28.31it/s]\u001b[A\n",
            " 95%|█████████▍| 981/1033 [00:52<00:01, 27.73it/s]\u001b[A\n",
            " 95%|█████████▌| 985/1033 [00:52<00:01, 28.04it/s]\u001b[A\n",
            " 96%|█████████▌| 989/1033 [00:52<00:01, 27.94it/s]\u001b[A\n",
            " 96%|█████████▌| 993/1033 [00:52<00:01, 27.81it/s]\u001b[A\n",
            " 96%|█████████▋| 996/1033 [00:52<00:01, 28.19it/s]\u001b[A\n",
            " 97%|█████████▋| 999/1033 [00:53<00:01, 27.77it/s]\u001b[A\n",
            " 97%|█████████▋| 1002/1033 [00:53<00:01, 26.62it/s]\u001b[A\n",
            " 97%|█████████▋| 1005/1033 [00:53<00:01, 26.42it/s]\u001b[A\n",
            " 98%|█████████▊| 1009/1033 [00:53<00:00, 26.22it/s]\u001b[A\n",
            " 98%|█████████▊| 1013/1033 [00:53<00:00, 26.80it/s]\u001b[A\n",
            " 98%|█████████▊| 1017/1033 [00:53<00:00, 26.80it/s]\u001b[A\n",
            " 99%|█████████▉| 1021/1033 [00:53<00:00, 26.50it/s]\u001b[A\n",
            " 99%|█████████▉| 1025/1033 [00:54<00:00, 27.26it/s]\u001b[A\n",
            "100%|█████████▉| 1028/1033 [00:54<00:00, 26.82it/s]\u001b[A\n",
            "100%|██████████| 1033/1033 [00:54<00:00, 18.99it/s]\n"
          ]
        }
      ],
      "source": [
        "save_key_frames(\n",
        "    keyFramesList=peaks, \n",
        "    frames_path=temp_extracted_frames,\n",
        "    threshold=12, \n",
        "    near=5, \n",
        "    slowmotion=2, \n",
        "    speedUp=4, \n",
        "    title=\"final.avi\")"
      ]
    },
    {
      "cell_type": "code",
      "source": [],
      "metadata": {
        "id": "tn7fBUjzQ3Qk"
      },
      "id": "tn7fBUjzQ3Qk",
      "execution_count": null,
      "outputs": []
    }
  ],
  "metadata": {
    "colab": {
      "provenance": []
    },
    "kernelspec": {
      "display_name": "Python 3",
      "language": "python",
      "name": "python3"
    },
    "language_info": {
      "codemirror_mode": {
        "name": "ipython",
        "version": 3
      },
      "file_extension": ".py",
      "mimetype": "text/x-python",
      "name": "python",
      "nbconvert_exporter": "python",
      "pygments_lexer": "ipython3",
      "version": "3.8.10"
    },
    "vscode": {
      "interpreter": {
        "hash": "e7370f93d1d0cde622a1f8e1c04877d8463912d04d973331ad4851f04de6915a"
      }
    },
    "accelerator": "GPU",
    "gpuClass": "standard",
    "widgets": {
      "application/vnd.jupyter.widget-state+json": {
        "ac6442f440924876a55ac4088e70e89e": {
          "model_module": "@jupyter-widgets/controls",
          "model_name": "HBoxModel",
          "model_module_version": "1.5.0",
          "state": {
            "_dom_classes": [],
            "_model_module": "@jupyter-widgets/controls",
            "_model_module_version": "1.5.0",
            "_model_name": "HBoxModel",
            "_view_count": null,
            "_view_module": "@jupyter-widgets/controls",
            "_view_module_version": "1.5.0",
            "_view_name": "HBoxView",
            "box_style": "",
            "children": [
              "IPY_MODEL_f0120745976c4193b5921a42370d8535",
              "IPY_MODEL_61eb48dfc36e40988fcdba1ac947bdb2",
              "IPY_MODEL_e5e6d4cc1b1a406d9a71793d376a21a4"
            ],
            "layout": "IPY_MODEL_c907901a85334cde95b1a519f16f23e2"
          }
        },
        "f0120745976c4193b5921a42370d8535": {
          "model_module": "@jupyter-widgets/controls",
          "model_name": "HTMLModel",
          "model_module_version": "1.5.0",
          "state": {
            "_dom_classes": [],
            "_model_module": "@jupyter-widgets/controls",
            "_model_module_version": "1.5.0",
            "_model_name": "HTMLModel",
            "_view_count": null,
            "_view_module": "@jupyter-widgets/controls",
            "_view_module_version": "1.5.0",
            "_view_name": "HTMLView",
            "description": "",
            "description_tooltip": null,
            "layout": "IPY_MODEL_e1a8aa2bdaef49b19f51430f71270631",
            "placeholder": "​",
            "style": "IPY_MODEL_d1abdf8a6e4a412cbba60b379ce4f364",
            "value": "Epoch 0:   5%"
          }
        },
        "61eb48dfc36e40988fcdba1ac947bdb2": {
          "model_module": "@jupyter-widgets/controls",
          "model_name": "FloatProgressModel",
          "model_module_version": "1.5.0",
          "state": {
            "_dom_classes": [],
            "_model_module": "@jupyter-widgets/controls",
            "_model_module_version": "1.5.0",
            "_model_name": "FloatProgressModel",
            "_view_count": null,
            "_view_module": "@jupyter-widgets/controls",
            "_view_module_version": "1.5.0",
            "_view_name": "ProgressView",
            "bar_style": "",
            "description": "",
            "description_tooltip": null,
            "layout": "IPY_MODEL_7eb50f622b9245bf9990d30f8897bede",
            "max": 1041,
            "min": 0,
            "orientation": "horizontal",
            "style": "IPY_MODEL_b7453115f7dc4060a33707f6acc22c89",
            "value": 47
          }
        },
        "e5e6d4cc1b1a406d9a71793d376a21a4": {
          "model_module": "@jupyter-widgets/controls",
          "model_name": "HTMLModel",
          "model_module_version": "1.5.0",
          "state": {
            "_dom_classes": [],
            "_model_module": "@jupyter-widgets/controls",
            "_model_module_version": "1.5.0",
            "_model_name": "HTMLModel",
            "_view_count": null,
            "_view_module": "@jupyter-widgets/controls",
            "_view_module_version": "1.5.0",
            "_view_name": "HTMLView",
            "description": "",
            "description_tooltip": null,
            "layout": "IPY_MODEL_c8e38b6c1a08474c9035fd42b11ae139",
            "placeholder": "​",
            "style": "IPY_MODEL_b7817ece6f684de3b7391471bf77df84",
            "value": " 47/1041 [00:14&lt;05:13,  3.17it/s, loss=0.195, v_num=1]"
          }
        },
        "c907901a85334cde95b1a519f16f23e2": {
          "model_module": "@jupyter-widgets/base",
          "model_name": "LayoutModel",
          "model_module_version": "1.2.0",
          "state": {
            "_model_module": "@jupyter-widgets/base",
            "_model_module_version": "1.2.0",
            "_model_name": "LayoutModel",
            "_view_count": null,
            "_view_module": "@jupyter-widgets/base",
            "_view_module_version": "1.2.0",
            "_view_name": "LayoutView",
            "align_content": null,
            "align_items": null,
            "align_self": null,
            "border": null,
            "bottom": null,
            "display": "inline-flex",
            "flex": null,
            "flex_flow": "row wrap",
            "grid_area": null,
            "grid_auto_columns": null,
            "grid_auto_flow": null,
            "grid_auto_rows": null,
            "grid_column": null,
            "grid_gap": null,
            "grid_row": null,
            "grid_template_areas": null,
            "grid_template_columns": null,
            "grid_template_rows": null,
            "height": null,
            "justify_content": null,
            "justify_items": null,
            "left": null,
            "margin": null,
            "max_height": null,
            "max_width": null,
            "min_height": null,
            "min_width": null,
            "object_fit": null,
            "object_position": null,
            "order": null,
            "overflow": null,
            "overflow_x": null,
            "overflow_y": null,
            "padding": null,
            "right": null,
            "top": null,
            "visibility": null,
            "width": "100%"
          }
        },
        "e1a8aa2bdaef49b19f51430f71270631": {
          "model_module": "@jupyter-widgets/base",
          "model_name": "LayoutModel",
          "model_module_version": "1.2.0",
          "state": {
            "_model_module": "@jupyter-widgets/base",
            "_model_module_version": "1.2.0",
            "_model_name": "LayoutModel",
            "_view_count": null,
            "_view_module": "@jupyter-widgets/base",
            "_view_module_version": "1.2.0",
            "_view_name": "LayoutView",
            "align_content": null,
            "align_items": null,
            "align_self": null,
            "border": null,
            "bottom": null,
            "display": null,
            "flex": null,
            "flex_flow": null,
            "grid_area": null,
            "grid_auto_columns": null,
            "grid_auto_flow": null,
            "grid_auto_rows": null,
            "grid_column": null,
            "grid_gap": null,
            "grid_row": null,
            "grid_template_areas": null,
            "grid_template_columns": null,
            "grid_template_rows": null,
            "height": null,
            "justify_content": null,
            "justify_items": null,
            "left": null,
            "margin": null,
            "max_height": null,
            "max_width": null,
            "min_height": null,
            "min_width": null,
            "object_fit": null,
            "object_position": null,
            "order": null,
            "overflow": null,
            "overflow_x": null,
            "overflow_y": null,
            "padding": null,
            "right": null,
            "top": null,
            "visibility": null,
            "width": null
          }
        },
        "d1abdf8a6e4a412cbba60b379ce4f364": {
          "model_module": "@jupyter-widgets/controls",
          "model_name": "DescriptionStyleModel",
          "model_module_version": "1.5.0",
          "state": {
            "_model_module": "@jupyter-widgets/controls",
            "_model_module_version": "1.5.0",
            "_model_name": "DescriptionStyleModel",
            "_view_count": null,
            "_view_module": "@jupyter-widgets/base",
            "_view_module_version": "1.2.0",
            "_view_name": "StyleView",
            "description_width": ""
          }
        },
        "7eb50f622b9245bf9990d30f8897bede": {
          "model_module": "@jupyter-widgets/base",
          "model_name": "LayoutModel",
          "model_module_version": "1.2.0",
          "state": {
            "_model_module": "@jupyter-widgets/base",
            "_model_module_version": "1.2.0",
            "_model_name": "LayoutModel",
            "_view_count": null,
            "_view_module": "@jupyter-widgets/base",
            "_view_module_version": "1.2.0",
            "_view_name": "LayoutView",
            "align_content": null,
            "align_items": null,
            "align_self": null,
            "border": null,
            "bottom": null,
            "display": null,
            "flex": "2",
            "flex_flow": null,
            "grid_area": null,
            "grid_auto_columns": null,
            "grid_auto_flow": null,
            "grid_auto_rows": null,
            "grid_column": null,
            "grid_gap": null,
            "grid_row": null,
            "grid_template_areas": null,
            "grid_template_columns": null,
            "grid_template_rows": null,
            "height": null,
            "justify_content": null,
            "justify_items": null,
            "left": null,
            "margin": null,
            "max_height": null,
            "max_width": null,
            "min_height": null,
            "min_width": null,
            "object_fit": null,
            "object_position": null,
            "order": null,
            "overflow": null,
            "overflow_x": null,
            "overflow_y": null,
            "padding": null,
            "right": null,
            "top": null,
            "visibility": null,
            "width": null
          }
        },
        "b7453115f7dc4060a33707f6acc22c89": {
          "model_module": "@jupyter-widgets/controls",
          "model_name": "ProgressStyleModel",
          "model_module_version": "1.5.0",
          "state": {
            "_model_module": "@jupyter-widgets/controls",
            "_model_module_version": "1.5.0",
            "_model_name": "ProgressStyleModel",
            "_view_count": null,
            "_view_module": "@jupyter-widgets/base",
            "_view_module_version": "1.2.0",
            "_view_name": "StyleView",
            "bar_color": null,
            "description_width": ""
          }
        },
        "c8e38b6c1a08474c9035fd42b11ae139": {
          "model_module": "@jupyter-widgets/base",
          "model_name": "LayoutModel",
          "model_module_version": "1.2.0",
          "state": {
            "_model_module": "@jupyter-widgets/base",
            "_model_module_version": "1.2.0",
            "_model_name": "LayoutModel",
            "_view_count": null,
            "_view_module": "@jupyter-widgets/base",
            "_view_module_version": "1.2.0",
            "_view_name": "LayoutView",
            "align_content": null,
            "align_items": null,
            "align_self": null,
            "border": null,
            "bottom": null,
            "display": null,
            "flex": null,
            "flex_flow": null,
            "grid_area": null,
            "grid_auto_columns": null,
            "grid_auto_flow": null,
            "grid_auto_rows": null,
            "grid_column": null,
            "grid_gap": null,
            "grid_row": null,
            "grid_template_areas": null,
            "grid_template_columns": null,
            "grid_template_rows": null,
            "height": null,
            "justify_content": null,
            "justify_items": null,
            "left": null,
            "margin": null,
            "max_height": null,
            "max_width": null,
            "min_height": null,
            "min_width": null,
            "object_fit": null,
            "object_position": null,
            "order": null,
            "overflow": null,
            "overflow_x": null,
            "overflow_y": null,
            "padding": null,
            "right": null,
            "top": null,
            "visibility": null,
            "width": null
          }
        },
        "b7817ece6f684de3b7391471bf77df84": {
          "model_module": "@jupyter-widgets/controls",
          "model_name": "DescriptionStyleModel",
          "model_module_version": "1.5.0",
          "state": {
            "_model_module": "@jupyter-widgets/controls",
            "_model_module_version": "1.5.0",
            "_model_name": "DescriptionStyleModel",
            "_view_count": null,
            "_view_module": "@jupyter-widgets/base",
            "_view_module_version": "1.2.0",
            "_view_name": "StyleView",
            "description_width": ""
          }
        },
        "d02a1d4cd2bb42cf882b686b8ef45f9e": {
          "model_module": "@jupyter-widgets/controls",
          "model_name": "HBoxModel",
          "model_module_version": "1.5.0",
          "state": {
            "_dom_classes": [],
            "_model_module": "@jupyter-widgets/controls",
            "_model_module_version": "1.5.0",
            "_model_name": "HBoxModel",
            "_view_count": null,
            "_view_module": "@jupyter-widgets/controls",
            "_view_module_version": "1.5.0",
            "_view_name": "HBoxView",
            "box_style": "",
            "children": [
              "IPY_MODEL_fc8f16c5715941d486b2de69c440629c",
              "IPY_MODEL_5f62375b134540c4aa39b7f8f826146d",
              "IPY_MODEL_91f034097eb34278bd34b8cadd5477f8"
            ],
            "layout": "IPY_MODEL_99f08fdd795c4c8ab15f313750f1e9e3"
          }
        },
        "fc8f16c5715941d486b2de69c440629c": {
          "model_module": "@jupyter-widgets/controls",
          "model_name": "HTMLModel",
          "model_module_version": "1.5.0",
          "state": {
            "_dom_classes": [],
            "_model_module": "@jupyter-widgets/controls",
            "_model_module_version": "1.5.0",
            "_model_name": "HTMLModel",
            "_view_count": null,
            "_view_module": "@jupyter-widgets/controls",
            "_view_module_version": "1.5.0",
            "_view_name": "HTMLView",
            "description": "",
            "description_tooltip": null,
            "layout": "IPY_MODEL_54caa3078395426fbce26cd8dac559a8",
            "placeholder": "​",
            "style": "IPY_MODEL_7592e648951a4dc98831a43c64a8608c",
            "value": "Testing: "
          }
        },
        "5f62375b134540c4aa39b7f8f826146d": {
          "model_module": "@jupyter-widgets/controls",
          "model_name": "FloatProgressModel",
          "model_module_version": "1.5.0",
          "state": {
            "_dom_classes": [],
            "_model_module": "@jupyter-widgets/controls",
            "_model_module_version": "1.5.0",
            "_model_name": "FloatProgressModel",
            "_view_count": null,
            "_view_module": "@jupyter-widgets/controls",
            "_view_module_version": "1.5.0",
            "_view_name": "ProgressView",
            "bar_style": "info",
            "description": "",
            "description_tooltip": null,
            "layout": "IPY_MODEL_9e5685fd29ea41dd9b8fec8ba9fad495",
            "max": 1,
            "min": 0,
            "orientation": "horizontal",
            "style": "IPY_MODEL_dd0e584c414e4dddab4f17f7294b1cab",
            "value": 0
          }
        },
        "91f034097eb34278bd34b8cadd5477f8": {
          "model_module": "@jupyter-widgets/controls",
          "model_name": "HTMLModel",
          "model_module_version": "1.5.0",
          "state": {
            "_dom_classes": [],
            "_model_module": "@jupyter-widgets/controls",
            "_model_module_version": "1.5.0",
            "_model_name": "HTMLModel",
            "_view_count": null,
            "_view_module": "@jupyter-widgets/controls",
            "_view_module_version": "1.5.0",
            "_view_name": "HTMLView",
            "description": "",
            "description_tooltip": null,
            "layout": "IPY_MODEL_d4afe4e8372a4de0946dd4627ff7e67e",
            "placeholder": "​",
            "style": "IPY_MODEL_ccafc9874cd64f9998733962b131fab4",
            "value": " 0/? [00:00&lt;?, ?it/s]"
          }
        },
        "99f08fdd795c4c8ab15f313750f1e9e3": {
          "model_module": "@jupyter-widgets/base",
          "model_name": "LayoutModel",
          "model_module_version": "1.2.0",
          "state": {
            "_model_module": "@jupyter-widgets/base",
            "_model_module_version": "1.2.0",
            "_model_name": "LayoutModel",
            "_view_count": null,
            "_view_module": "@jupyter-widgets/base",
            "_view_module_version": "1.2.0",
            "_view_name": "LayoutView",
            "align_content": null,
            "align_items": null,
            "align_self": null,
            "border": null,
            "bottom": null,
            "display": "inline-flex",
            "flex": null,
            "flex_flow": "row wrap",
            "grid_area": null,
            "grid_auto_columns": null,
            "grid_auto_flow": null,
            "grid_auto_rows": null,
            "grid_column": null,
            "grid_gap": null,
            "grid_row": null,
            "grid_template_areas": null,
            "grid_template_columns": null,
            "grid_template_rows": null,
            "height": null,
            "justify_content": null,
            "justify_items": null,
            "left": null,
            "margin": null,
            "max_height": null,
            "max_width": null,
            "min_height": null,
            "min_width": null,
            "object_fit": null,
            "object_position": null,
            "order": null,
            "overflow": null,
            "overflow_x": null,
            "overflow_y": null,
            "padding": null,
            "right": null,
            "top": null,
            "visibility": null,
            "width": "100%"
          }
        },
        "54caa3078395426fbce26cd8dac559a8": {
          "model_module": "@jupyter-widgets/base",
          "model_name": "LayoutModel",
          "model_module_version": "1.2.0",
          "state": {
            "_model_module": "@jupyter-widgets/base",
            "_model_module_version": "1.2.0",
            "_model_name": "LayoutModel",
            "_view_count": null,
            "_view_module": "@jupyter-widgets/base",
            "_view_module_version": "1.2.0",
            "_view_name": "LayoutView",
            "align_content": null,
            "align_items": null,
            "align_self": null,
            "border": null,
            "bottom": null,
            "display": null,
            "flex": null,
            "flex_flow": null,
            "grid_area": null,
            "grid_auto_columns": null,
            "grid_auto_flow": null,
            "grid_auto_rows": null,
            "grid_column": null,
            "grid_gap": null,
            "grid_row": null,
            "grid_template_areas": null,
            "grid_template_columns": null,
            "grid_template_rows": null,
            "height": null,
            "justify_content": null,
            "justify_items": null,
            "left": null,
            "margin": null,
            "max_height": null,
            "max_width": null,
            "min_height": null,
            "min_width": null,
            "object_fit": null,
            "object_position": null,
            "order": null,
            "overflow": null,
            "overflow_x": null,
            "overflow_y": null,
            "padding": null,
            "right": null,
            "top": null,
            "visibility": null,
            "width": null
          }
        },
        "7592e648951a4dc98831a43c64a8608c": {
          "model_module": "@jupyter-widgets/controls",
          "model_name": "DescriptionStyleModel",
          "model_module_version": "1.5.0",
          "state": {
            "_model_module": "@jupyter-widgets/controls",
            "_model_module_version": "1.5.0",
            "_model_name": "DescriptionStyleModel",
            "_view_count": null,
            "_view_module": "@jupyter-widgets/base",
            "_view_module_version": "1.2.0",
            "_view_name": "StyleView",
            "description_width": ""
          }
        },
        "9e5685fd29ea41dd9b8fec8ba9fad495": {
          "model_module": "@jupyter-widgets/base",
          "model_name": "LayoutModel",
          "model_module_version": "1.2.0",
          "state": {
            "_model_module": "@jupyter-widgets/base",
            "_model_module_version": "1.2.0",
            "_model_name": "LayoutModel",
            "_view_count": null,
            "_view_module": "@jupyter-widgets/base",
            "_view_module_version": "1.2.0",
            "_view_name": "LayoutView",
            "align_content": null,
            "align_items": null,
            "align_self": null,
            "border": null,
            "bottom": null,
            "display": null,
            "flex": "2",
            "flex_flow": null,
            "grid_area": null,
            "grid_auto_columns": null,
            "grid_auto_flow": null,
            "grid_auto_rows": null,
            "grid_column": null,
            "grid_gap": null,
            "grid_row": null,
            "grid_template_areas": null,
            "grid_template_columns": null,
            "grid_template_rows": null,
            "height": null,
            "justify_content": null,
            "justify_items": null,
            "left": null,
            "margin": null,
            "max_height": null,
            "max_width": null,
            "min_height": null,
            "min_width": null,
            "object_fit": null,
            "object_position": null,
            "order": null,
            "overflow": null,
            "overflow_x": null,
            "overflow_y": null,
            "padding": null,
            "right": null,
            "top": null,
            "visibility": null,
            "width": null
          }
        },
        "dd0e584c414e4dddab4f17f7294b1cab": {
          "model_module": "@jupyter-widgets/controls",
          "model_name": "ProgressStyleModel",
          "model_module_version": "1.5.0",
          "state": {
            "_model_module": "@jupyter-widgets/controls",
            "_model_module_version": "1.5.0",
            "_model_name": "ProgressStyleModel",
            "_view_count": null,
            "_view_module": "@jupyter-widgets/base",
            "_view_module_version": "1.2.0",
            "_view_name": "StyleView",
            "bar_color": null,
            "description_width": ""
          }
        },
        "d4afe4e8372a4de0946dd4627ff7e67e": {
          "model_module": "@jupyter-widgets/base",
          "model_name": "LayoutModel",
          "model_module_version": "1.2.0",
          "state": {
            "_model_module": "@jupyter-widgets/base",
            "_model_module_version": "1.2.0",
            "_model_name": "LayoutModel",
            "_view_count": null,
            "_view_module": "@jupyter-widgets/base",
            "_view_module_version": "1.2.0",
            "_view_name": "LayoutView",
            "align_content": null,
            "align_items": null,
            "align_self": null,
            "border": null,
            "bottom": null,
            "display": null,
            "flex": null,
            "flex_flow": null,
            "grid_area": null,
            "grid_auto_columns": null,
            "grid_auto_flow": null,
            "grid_auto_rows": null,
            "grid_column": null,
            "grid_gap": null,
            "grid_row": null,
            "grid_template_areas": null,
            "grid_template_columns": null,
            "grid_template_rows": null,
            "height": null,
            "justify_content": null,
            "justify_items": null,
            "left": null,
            "margin": null,
            "max_height": null,
            "max_width": null,
            "min_height": null,
            "min_width": null,
            "object_fit": null,
            "object_position": null,
            "order": null,
            "overflow": null,
            "overflow_x": null,
            "overflow_y": null,
            "padding": null,
            "right": null,
            "top": null,
            "visibility": null,
            "width": null
          }
        },
        "ccafc9874cd64f9998733962b131fab4": {
          "model_module": "@jupyter-widgets/controls",
          "model_name": "DescriptionStyleModel",
          "model_module_version": "1.5.0",
          "state": {
            "_model_module": "@jupyter-widgets/controls",
            "_model_module_version": "1.5.0",
            "_model_name": "DescriptionStyleModel",
            "_view_count": null,
            "_view_module": "@jupyter-widgets/base",
            "_view_module_version": "1.2.0",
            "_view_name": "StyleView",
            "description_width": ""
          }
        }
      }
    }
  },
  "nbformat": 4,
  "nbformat_minor": 5
}